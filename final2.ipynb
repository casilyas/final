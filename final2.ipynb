{
 "cells": [
  {
   "cell_type": "code",
   "execution_count": 41,
   "id": "895ad921-00be-49b9-9e39-4730e6ad5c07",
   "metadata": {},
   "outputs": [],
   "source": [
    "import pandas as pd"
   ]
  },
  {
   "cell_type": "code",
   "execution_count": 42,
   "id": "4e356ce0-bf0b-4f3a-a5e7-4c6c22f4b29a",
   "metadata": {},
   "outputs": [],
   "source": [
    "df=pd.read_csv(\"orderList.csv\")\n",
    "df1=pd.read_csv(\"FreightRates.csv\")\n",
    "df2=pd.read_csv(\"WhCapacities.csv\")\n",
    "df3=pd.read_csv(\"ProductsPerPlant.csv\")\n",
    "df4=pd.read_csv(\"WhCosts.csv\")\n",
    "df5=pd.read_csv(\"PlantPorts.csv\")"
   ]
  },
  {
   "cell_type": "code",
   "execution_count": 71,
   "id": "a5a1dc89-fe90-4577-82e4-8367529481dd",
   "metadata": {},
   "outputs": [
    {
     "data": {
      "text/plain": [
       "Index(['Unnamed: 0', 'ORDER_ID', 'ORDER_DATE', 'ORIGIN_PORT', 'CARRIER', 'TPT',\n",
       "       'SERVICE_LEVEL', 'SHIP_AHEAD_DAY_COUNT', 'SHIP_LATE_DAY_COUNT',\n",
       "       'CUSTOMER', 'PRODUCT_ID', 'PLANT_CODE', 'DESTINATION_PORT',\n",
       "       'UNIT_QUANTITY', 'WEIGHT', 'ORIG_PORT_CD', 'DEST_PORT_CD',\n",
       "       'MINM_WGH_QTY', 'MAX_WGH_QTY', 'SVC_CD', 'MINIMUM_COST', 'RATE',\n",
       "       'MODE_DSC', 'TPT_DAY_CNT', 'CARRIER_TYPE', 'WH', 'COST_UNIT', 'COST'],\n",
       "      dtype='object')"
      ]
     },
     "execution_count": 71,
     "metadata": {},
     "output_type": "execute_result"
    }
   ],
   "source": [
    "df.columns"
   ]
  },
  {
   "cell_type": "code",
   "execution_count": 75,
   "id": "e0c47e68-604b-4db3-a168-a3436efa8612",
   "metadata": {},
   "outputs": [],
   "source": [
    "del df[\"Unnamed: 0\"]\n",
    "del df1[\"Unnamed: 0\"]"
   ]
  },
  {
   "cell_type": "code",
   "execution_count": 73,
   "id": "6397d731-0de1-40b7-838f-e31d15a24a8f",
   "metadata": {},
   "outputs": [
    {
     "data": {
      "text/html": [
       "<div>\n",
       "<style scoped>\n",
       "    .dataframe tbody tr th:only-of-type {\n",
       "        vertical-align: middle;\n",
       "    }\n",
       "\n",
       "    .dataframe tbody tr th {\n",
       "        vertical-align: top;\n",
       "    }\n",
       "\n",
       "    .dataframe thead th {\n",
       "        text-align: right;\n",
       "    }\n",
       "</style>\n",
       "<table border=\"1\" class=\"dataframe\">\n",
       "  <thead>\n",
       "    <tr style=\"text-align: right;\">\n",
       "      <th></th>\n",
       "      <th>ORDER_ID</th>\n",
       "      <th>TPT</th>\n",
       "      <th>SHIP_AHEAD_DAY_COUNT</th>\n",
       "      <th>SHIP_LATE_DAY_COUNT</th>\n",
       "      <th>PRODUCT_ID</th>\n",
       "      <th>UNIT_QUANTITY</th>\n",
       "      <th>WEIGHT</th>\n",
       "      <th>MINM_WGH_QTY</th>\n",
       "      <th>MAX_WGH_QTY</th>\n",
       "      <th>MINIMUM_COST</th>\n",
       "      <th>RATE</th>\n",
       "      <th>TPT_DAY_CNT</th>\n",
       "      <th>COST_UNIT</th>\n",
       "      <th>COST</th>\n",
       "    </tr>\n",
       "  </thead>\n",
       "  <tbody>\n",
       "    <tr>\n",
       "      <th>count</th>\n",
       "      <td>2.085480e+05</td>\n",
       "      <td>208548.000000</td>\n",
       "      <td>208548.000000</td>\n",
       "      <td>208548.000000</td>\n",
       "      <td>2.085480e+05</td>\n",
       "      <td>208548.000000</td>\n",
       "      <td>208548.000000</td>\n",
       "      <td>208548.000000</td>\n",
       "      <td>208548.000000</td>\n",
       "      <td>208548.000000</td>\n",
       "      <td>208548.000000</td>\n",
       "      <td>208548.000000</td>\n",
       "      <td>208548.000000</td>\n",
       "      <td>208548.000000</td>\n",
       "    </tr>\n",
       "    <tr>\n",
       "      <th>mean</th>\n",
       "      <td>1.447273e+09</td>\n",
       "      <td>1.624374</td>\n",
       "      <td>1.931987</td>\n",
       "      <td>0.037881</td>\n",
       "      <td>1.680153e+06</td>\n",
       "      <td>2664.160021</td>\n",
       "      <td>16.350336</td>\n",
       "      <td>420.013605</td>\n",
       "      <td>12770.395519</td>\n",
       "      <td>9.900351</td>\n",
       "      <td>0.132569</td>\n",
       "      <td>2.096975</td>\n",
       "      <td>0.527681</td>\n",
       "      <td>1597.678289</td>\n",
       "    </tr>\n",
       "    <tr>\n",
       "      <th>std</th>\n",
       "      <td>8.414006e+04</td>\n",
       "      <td>0.496295</td>\n",
       "      <td>2.059308</td>\n",
       "      <td>0.313074</td>\n",
       "      <td>1.450609e+04</td>\n",
       "      <td>14966.032979</td>\n",
       "      <td>49.284847</td>\n",
       "      <td>628.169544</td>\n",
       "      <td>32193.967016</td>\n",
       "      <td>21.315896</td>\n",
       "      <td>0.272103</td>\n",
       "      <td>0.701241</td>\n",
       "      <td>0.056108</td>\n",
       "      <td>8684.093299</td>\n",
       "    </tr>\n",
       "    <tr>\n",
       "      <th>min</th>\n",
       "      <td>1.447126e+09</td>\n",
       "      <td>0.000000</td>\n",
       "      <td>0.000000</td>\n",
       "      <td>0.000000</td>\n",
       "      <td>1.613321e+06</td>\n",
       "      <td>235.000000</td>\n",
       "      <td>0.000000</td>\n",
       "      <td>0.000000</td>\n",
       "      <td>0.500000</td>\n",
       "      <td>1.202000</td>\n",
       "      <td>0.042400</td>\n",
       "      <td>0.000000</td>\n",
       "      <td>0.465071</td>\n",
       "      <td>122.905694</td>\n",
       "    </tr>\n",
       "    <tr>\n",
       "      <th>25%</th>\n",
       "      <td>1.447195e+09</td>\n",
       "      <td>1.000000</td>\n",
       "      <td>0.000000</td>\n",
       "      <td>0.000000</td>\n",
       "      <td>1.671942e+06</td>\n",
       "      <td>328.000000</td>\n",
       "      <td>1.404421</td>\n",
       "      <td>1.510000</td>\n",
       "      <td>99.990000</td>\n",
       "      <td>1.499200</td>\n",
       "      <td>0.048400</td>\n",
       "      <td>2.000000</td>\n",
       "      <td>0.517502</td>\n",
       "      <td>202.688741</td>\n",
       "    </tr>\n",
       "    <tr>\n",
       "      <th>50%</th>\n",
       "      <td>1.447273e+09</td>\n",
       "      <td>2.000000</td>\n",
       "      <td>1.000000</td>\n",
       "      <td>0.000000</td>\n",
       "      <td>1.683634e+06</td>\n",
       "      <td>437.000000</td>\n",
       "      <td>4.484133</td>\n",
       "      <td>100.000000</td>\n",
       "      <td>299.990000</td>\n",
       "      <td>3.455200</td>\n",
       "      <td>0.056400</td>\n",
       "      <td>2.000000</td>\n",
       "      <td>0.517502</td>\n",
       "      <td>305.286643</td>\n",
       "    </tr>\n",
       "    <tr>\n",
       "      <th>75%</th>\n",
       "      <td>1.447345e+09</td>\n",
       "      <td>2.000000</td>\n",
       "      <td>3.000000</td>\n",
       "      <td>0.000000</td>\n",
       "      <td>1.689547e+06</td>\n",
       "      <td>955.000000</td>\n",
       "      <td>13.080000</td>\n",
       "      <td>500.000000</td>\n",
       "      <td>1999.990000</td>\n",
       "      <td>3.455200</td>\n",
       "      <td>0.082400</td>\n",
       "      <td>3.000000</td>\n",
       "      <td>0.517502</td>\n",
       "      <td>634.937701</td>\n",
       "    </tr>\n",
       "    <tr>\n",
       "      <th>max</th>\n",
       "      <td>1.447425e+09</td>\n",
       "      <td>3.000000</td>\n",
       "      <td>6.000000</td>\n",
       "      <td>6.000000</td>\n",
       "      <td>1.702224e+06</td>\n",
       "      <td>561847.000000</td>\n",
       "      <td>2338.405126</td>\n",
       "      <td>2000.000000</td>\n",
       "      <td>99999.990000</td>\n",
       "      <td>101.827200</td>\n",
       "      <td>13.278400</td>\n",
       "      <td>3.000000</td>\n",
       "      <td>1.919808</td>\n",
       "      <td>337053.078104</td>\n",
       "    </tr>\n",
       "  </tbody>\n",
       "</table>\n",
       "</div>"
      ],
      "text/plain": [
       "           ORDER_ID            TPT  SHIP_AHEAD_DAY_COUNT  SHIP_LATE_DAY_COUNT  \\\n",
       "count  2.085480e+05  208548.000000         208548.000000        208548.000000   \n",
       "mean   1.447273e+09       1.624374              1.931987             0.037881   \n",
       "std    8.414006e+04       0.496295              2.059308             0.313074   \n",
       "min    1.447126e+09       0.000000              0.000000             0.000000   \n",
       "25%    1.447195e+09       1.000000              0.000000             0.000000   \n",
       "50%    1.447273e+09       2.000000              1.000000             0.000000   \n",
       "75%    1.447345e+09       2.000000              3.000000             0.000000   \n",
       "max    1.447425e+09       3.000000              6.000000             6.000000   \n",
       "\n",
       "         PRODUCT_ID  UNIT_QUANTITY         WEIGHT   MINM_WGH_QTY  \\\n",
       "count  2.085480e+05  208548.000000  208548.000000  208548.000000   \n",
       "mean   1.680153e+06    2664.160021      16.350336     420.013605   \n",
       "std    1.450609e+04   14966.032979      49.284847     628.169544   \n",
       "min    1.613321e+06     235.000000       0.000000       0.000000   \n",
       "25%    1.671942e+06     328.000000       1.404421       1.510000   \n",
       "50%    1.683634e+06     437.000000       4.484133     100.000000   \n",
       "75%    1.689547e+06     955.000000      13.080000     500.000000   \n",
       "max    1.702224e+06  561847.000000    2338.405126    2000.000000   \n",
       "\n",
       "         MAX_WGH_QTY   MINIMUM_COST           RATE    TPT_DAY_CNT  \\\n",
       "count  208548.000000  208548.000000  208548.000000  208548.000000   \n",
       "mean    12770.395519       9.900351       0.132569       2.096975   \n",
       "std     32193.967016      21.315896       0.272103       0.701241   \n",
       "min         0.500000       1.202000       0.042400       0.000000   \n",
       "25%        99.990000       1.499200       0.048400       2.000000   \n",
       "50%       299.990000       3.455200       0.056400       2.000000   \n",
       "75%      1999.990000       3.455200       0.082400       3.000000   \n",
       "max     99999.990000     101.827200      13.278400       3.000000   \n",
       "\n",
       "           COST_UNIT           COST  \n",
       "count  208548.000000  208548.000000  \n",
       "mean        0.527681    1597.678289  \n",
       "std         0.056108    8684.093299  \n",
       "min         0.465071     122.905694  \n",
       "25%         0.517502     202.688741  \n",
       "50%         0.517502     305.286643  \n",
       "75%         0.517502     634.937701  \n",
       "max         1.919808  337053.078104  "
      ]
     },
     "execution_count": 73,
     "metadata": {},
     "output_type": "execute_result"
    }
   ],
   "source": [
    "df.describe()"
   ]
  },
  {
   "cell_type": "code",
   "execution_count": 76,
   "id": "d6653950-3291-449b-a478-61c576baca89",
   "metadata": {},
   "outputs": [
    {
     "data": {
      "text/html": [
       "<div>\n",
       "<style scoped>\n",
       "    .dataframe tbody tr th:only-of-type {\n",
       "        vertical-align: middle;\n",
       "    }\n",
       "\n",
       "    .dataframe tbody tr th {\n",
       "        vertical-align: top;\n",
       "    }\n",
       "\n",
       "    .dataframe thead th {\n",
       "        text-align: right;\n",
       "    }\n",
       "</style>\n",
       "<table border=\"1\" class=\"dataframe\">\n",
       "  <thead>\n",
       "    <tr style=\"text-align: right;\">\n",
       "      <th></th>\n",
       "      <th>MINM_WGH_QTY</th>\n",
       "      <th>MAX_WGH_QTY</th>\n",
       "      <th>MINIMUM_COST</th>\n",
       "      <th>RATE</th>\n",
       "      <th>TPT_DAY_CNT</th>\n",
       "    </tr>\n",
       "  </thead>\n",
       "  <tbody>\n",
       "    <tr>\n",
       "      <th>count</th>\n",
       "      <td>1537.000000</td>\n",
       "      <td>1537.000000</td>\n",
       "      <td>1537.000000</td>\n",
       "      <td>1537.000000</td>\n",
       "      <td>1537.000000</td>\n",
       "    </tr>\n",
       "    <tr>\n",
       "      <th>mean</th>\n",
       "      <td>156.190905</td>\n",
       "      <td>4635.433438</td>\n",
       "      <td>12.300002</td>\n",
       "      <td>2.875135</td>\n",
       "      <td>2.188679</td>\n",
       "    </tr>\n",
       "    <tr>\n",
       "      <th>std</th>\n",
       "      <td>476.366708</td>\n",
       "      <td>20271.070359</td>\n",
       "      <td>22.959164</td>\n",
       "      <td>4.590475</td>\n",
       "      <td>2.002161</td>\n",
       "    </tr>\n",
       "    <tr>\n",
       "      <th>min</th>\n",
       "      <td>0.000000</td>\n",
       "      <td>0.453592</td>\n",
       "      <td>1.202000</td>\n",
       "      <td>0.033200</td>\n",
       "      <td>0.000000</td>\n",
       "    </tr>\n",
       "    <tr>\n",
       "      <th>25%</th>\n",
       "      <td>15.010000</td>\n",
       "      <td>21.500000</td>\n",
       "      <td>3.656800</td>\n",
       "      <td>0.451200</td>\n",
       "      <td>1.000000</td>\n",
       "    </tr>\n",
       "    <tr>\n",
       "      <th>50%</th>\n",
       "      <td>41.281408</td>\n",
       "      <td>47.500000</td>\n",
       "      <td>7.403200</td>\n",
       "      <td>1.656800</td>\n",
       "      <td>2.000000</td>\n",
       "    </tr>\n",
       "    <tr>\n",
       "      <th>75%</th>\n",
       "      <td>67.510000</td>\n",
       "      <td>75.000000</td>\n",
       "      <td>11.480000</td>\n",
       "      <td>3.916800</td>\n",
       "      <td>2.000000</td>\n",
       "    </tr>\n",
       "    <tr>\n",
       "      <th>max</th>\n",
       "      <td>10000.000000</td>\n",
       "      <td>99999.990000</td>\n",
       "      <td>425.027200</td>\n",
       "      <td>128.027200</td>\n",
       "      <td>14.000000</td>\n",
       "    </tr>\n",
       "  </tbody>\n",
       "</table>\n",
       "</div>"
      ],
      "text/plain": [
       "       MINM_WGH_QTY   MAX_WGH_QTY  MINIMUM_COST         RATE  TPT_DAY_CNT\n",
       "count   1537.000000   1537.000000   1537.000000  1537.000000  1537.000000\n",
       "mean     156.190905   4635.433438     12.300002     2.875135     2.188679\n",
       "std      476.366708  20271.070359     22.959164     4.590475     2.002161\n",
       "min        0.000000      0.453592      1.202000     0.033200     0.000000\n",
       "25%       15.010000     21.500000      3.656800     0.451200     1.000000\n",
       "50%       41.281408     47.500000      7.403200     1.656800     2.000000\n",
       "75%       67.510000     75.000000     11.480000     3.916800     2.000000\n",
       "max    10000.000000  99999.990000    425.027200   128.027200    14.000000"
      ]
     },
     "execution_count": 76,
     "metadata": {},
     "output_type": "execute_result"
    }
   ],
   "source": [
    "df1.describe()"
   ]
  },
  {
   "cell_type": "code",
   "execution_count": 77,
   "id": "dbc95f43-9387-49b8-b655-0430319780e9",
   "metadata": {},
   "outputs": [
    {
     "data": {
      "text/html": [
       "<div>\n",
       "<style scoped>\n",
       "    .dataframe tbody tr th:only-of-type {\n",
       "        vertical-align: middle;\n",
       "    }\n",
       "\n",
       "    .dataframe tbody tr th {\n",
       "        vertical-align: top;\n",
       "    }\n",
       "\n",
       "    .dataframe thead th {\n",
       "        text-align: right;\n",
       "    }\n",
       "</style>\n",
       "<table border=\"1\" class=\"dataframe\">\n",
       "  <thead>\n",
       "    <tr style=\"text-align: right;\">\n",
       "      <th></th>\n",
       "      <th>ORDER_ID</th>\n",
       "      <th>TPT</th>\n",
       "      <th>SHIP_AHEAD_DAY_COUNT</th>\n",
       "      <th>SHIP_LATE_DAY_COUNT</th>\n",
       "      <th>PRODUCT_ID</th>\n",
       "      <th>UNIT_QUANTITY</th>\n",
       "      <th>WEIGHT</th>\n",
       "      <th>MINM_WGH_QTY</th>\n",
       "      <th>MAX_WGH_QTY</th>\n",
       "      <th>MINIMUM_COST</th>\n",
       "      <th>RATE</th>\n",
       "      <th>TPT_DAY_CNT</th>\n",
       "      <th>COST_UNIT</th>\n",
       "      <th>COST</th>\n",
       "    </tr>\n",
       "  </thead>\n",
       "  <tbody>\n",
       "    <tr>\n",
       "      <th>ORDER_ID</th>\n",
       "      <td>1.00</td>\n",
       "      <td>-0.02</td>\n",
       "      <td>-0.03</td>\n",
       "      <td>-0.03</td>\n",
       "      <td>0.03</td>\n",
       "      <td>0.01</td>\n",
       "      <td>0.00</td>\n",
       "      <td>-0.01</td>\n",
       "      <td>-0.01</td>\n",
       "      <td>0.01</td>\n",
       "      <td>0.01</td>\n",
       "      <td>-0.02</td>\n",
       "      <td>-0.01</td>\n",
       "      <td>0.01</td>\n",
       "    </tr>\n",
       "    <tr>\n",
       "      <th>TPT</th>\n",
       "      <td>-0.02</td>\n",
       "      <td>1.00</td>\n",
       "      <td>-0.13</td>\n",
       "      <td>0.06</td>\n",
       "      <td>-0.23</td>\n",
       "      <td>0.15</td>\n",
       "      <td>0.09</td>\n",
       "      <td>0.28</td>\n",
       "      <td>0.28</td>\n",
       "      <td>-0.40</td>\n",
       "      <td>-0.37</td>\n",
       "      <td>0.66</td>\n",
       "      <td>0.10</td>\n",
       "      <td>0.13</td>\n",
       "    </tr>\n",
       "    <tr>\n",
       "      <th>SHIP_AHEAD_DAY_COUNT</th>\n",
       "      <td>-0.03</td>\n",
       "      <td>-0.13</td>\n",
       "      <td>1.00</td>\n",
       "      <td>-0.02</td>\n",
       "      <td>0.08</td>\n",
       "      <td>-0.07</td>\n",
       "      <td>-0.01</td>\n",
       "      <td>-0.05</td>\n",
       "      <td>-0.05</td>\n",
       "      <td>0.07</td>\n",
       "      <td>0.06</td>\n",
       "      <td>-0.11</td>\n",
       "      <td>0.08</td>\n",
       "      <td>-0.07</td>\n",
       "    </tr>\n",
       "    <tr>\n",
       "      <th>SHIP_LATE_DAY_COUNT</th>\n",
       "      <td>-0.03</td>\n",
       "      <td>0.06</td>\n",
       "      <td>-0.02</td>\n",
       "      <td>1.00</td>\n",
       "      <td>-0.04</td>\n",
       "      <td>-0.01</td>\n",
       "      <td>-0.01</td>\n",
       "      <td>0.02</td>\n",
       "      <td>0.02</td>\n",
       "      <td>-0.03</td>\n",
       "      <td>-0.02</td>\n",
       "      <td>0.05</td>\n",
       "      <td>-0.02</td>\n",
       "      <td>-0.01</td>\n",
       "    </tr>\n",
       "    <tr>\n",
       "      <th>PRODUCT_ID</th>\n",
       "      <td>0.03</td>\n",
       "      <td>-0.23</td>\n",
       "      <td>0.08</td>\n",
       "      <td>-0.04</td>\n",
       "      <td>1.00</td>\n",
       "      <td>0.03</td>\n",
       "      <td>-0.04</td>\n",
       "      <td>-0.06</td>\n",
       "      <td>-0.06</td>\n",
       "      <td>0.09</td>\n",
       "      <td>0.09</td>\n",
       "      <td>-0.15</td>\n",
       "      <td>-0.09</td>\n",
       "      <td>0.03</td>\n",
       "    </tr>\n",
       "    <tr>\n",
       "      <th>UNIT_QUANTITY</th>\n",
       "      <td>0.01</td>\n",
       "      <td>0.15</td>\n",
       "      <td>-0.07</td>\n",
       "      <td>-0.01</td>\n",
       "      <td>0.03</td>\n",
       "      <td>1.00</td>\n",
       "      <td>0.43</td>\n",
       "      <td>0.03</td>\n",
       "      <td>0.03</td>\n",
       "      <td>-0.04</td>\n",
       "      <td>-0.03</td>\n",
       "      <td>0.06</td>\n",
       "      <td>-0.03</td>\n",
       "      <td>0.99</td>\n",
       "    </tr>\n",
       "    <tr>\n",
       "      <th>WEIGHT</th>\n",
       "      <td>0.00</td>\n",
       "      <td>0.09</td>\n",
       "      <td>-0.01</td>\n",
       "      <td>-0.01</td>\n",
       "      <td>-0.04</td>\n",
       "      <td>0.43</td>\n",
       "      <td>1.00</td>\n",
       "      <td>0.02</td>\n",
       "      <td>0.02</td>\n",
       "      <td>-0.02</td>\n",
       "      <td>0.02</td>\n",
       "      <td>0.04</td>\n",
       "      <td>0.05</td>\n",
       "      <td>0.43</td>\n",
       "    </tr>\n",
       "    <tr>\n",
       "      <th>MINM_WGH_QTY</th>\n",
       "      <td>-0.01</td>\n",
       "      <td>0.28</td>\n",
       "      <td>-0.05</td>\n",
       "      <td>0.02</td>\n",
       "      <td>-0.06</td>\n",
       "      <td>0.03</td>\n",
       "      <td>0.02</td>\n",
       "      <td>1.00</td>\n",
       "      <td>0.94</td>\n",
       "      <td>0.16</td>\n",
       "      <td>-0.19</td>\n",
       "      <td>0.20</td>\n",
       "      <td>-0.02</td>\n",
       "      <td>0.02</td>\n",
       "    </tr>\n",
       "    <tr>\n",
       "      <th>MAX_WGH_QTY</th>\n",
       "      <td>-0.01</td>\n",
       "      <td>0.28</td>\n",
       "      <td>-0.05</td>\n",
       "      <td>0.02</td>\n",
       "      <td>-0.06</td>\n",
       "      <td>0.03</td>\n",
       "      <td>0.02</td>\n",
       "      <td>0.94</td>\n",
       "      <td>1.00</td>\n",
       "      <td>-0.08</td>\n",
       "      <td>-0.12</td>\n",
       "      <td>0.21</td>\n",
       "      <td>-0.02</td>\n",
       "      <td>0.02</td>\n",
       "    </tr>\n",
       "    <tr>\n",
       "      <th>MINIMUM_COST</th>\n",
       "      <td>0.01</td>\n",
       "      <td>-0.40</td>\n",
       "      <td>0.07</td>\n",
       "      <td>-0.03</td>\n",
       "      <td>0.09</td>\n",
       "      <td>-0.04</td>\n",
       "      <td>-0.02</td>\n",
       "      <td>0.16</td>\n",
       "      <td>-0.08</td>\n",
       "      <td>1.00</td>\n",
       "      <td>-0.06</td>\n",
       "      <td>-0.30</td>\n",
       "      <td>0.03</td>\n",
       "      <td>-0.04</td>\n",
       "    </tr>\n",
       "    <tr>\n",
       "      <th>RATE</th>\n",
       "      <td>0.01</td>\n",
       "      <td>-0.37</td>\n",
       "      <td>0.06</td>\n",
       "      <td>-0.02</td>\n",
       "      <td>0.09</td>\n",
       "      <td>-0.03</td>\n",
       "      <td>0.02</td>\n",
       "      <td>-0.19</td>\n",
       "      <td>-0.12</td>\n",
       "      <td>-0.06</td>\n",
       "      <td>1.00</td>\n",
       "      <td>-0.28</td>\n",
       "      <td>0.40</td>\n",
       "      <td>-0.01</td>\n",
       "    </tr>\n",
       "    <tr>\n",
       "      <th>TPT_DAY_CNT</th>\n",
       "      <td>-0.02</td>\n",
       "      <td>0.66</td>\n",
       "      <td>-0.11</td>\n",
       "      <td>0.05</td>\n",
       "      <td>-0.15</td>\n",
       "      <td>0.06</td>\n",
       "      <td>0.04</td>\n",
       "      <td>0.20</td>\n",
       "      <td>0.21</td>\n",
       "      <td>-0.30</td>\n",
       "      <td>-0.28</td>\n",
       "      <td>1.00</td>\n",
       "      <td>-0.07</td>\n",
       "      <td>0.05</td>\n",
       "    </tr>\n",
       "    <tr>\n",
       "      <th>COST_UNIT</th>\n",
       "      <td>-0.01</td>\n",
       "      <td>0.10</td>\n",
       "      <td>0.08</td>\n",
       "      <td>-0.02</td>\n",
       "      <td>-0.09</td>\n",
       "      <td>-0.03</td>\n",
       "      <td>0.05</td>\n",
       "      <td>-0.02</td>\n",
       "      <td>-0.02</td>\n",
       "      <td>0.03</td>\n",
       "      <td>0.40</td>\n",
       "      <td>-0.07</td>\n",
       "      <td>1.00</td>\n",
       "      <td>-0.02</td>\n",
       "    </tr>\n",
       "    <tr>\n",
       "      <th>COST</th>\n",
       "      <td>0.01</td>\n",
       "      <td>0.13</td>\n",
       "      <td>-0.07</td>\n",
       "      <td>-0.01</td>\n",
       "      <td>0.03</td>\n",
       "      <td>0.99</td>\n",
       "      <td>0.43</td>\n",
       "      <td>0.02</td>\n",
       "      <td>0.02</td>\n",
       "      <td>-0.04</td>\n",
       "      <td>-0.01</td>\n",
       "      <td>0.05</td>\n",
       "      <td>-0.02</td>\n",
       "      <td>1.00</td>\n",
       "    </tr>\n",
       "  </tbody>\n",
       "</table>\n",
       "</div>"
      ],
      "text/plain": [
       "                      ORDER_ID   TPT  SHIP_AHEAD_DAY_COUNT  \\\n",
       "ORDER_ID                  1.00 -0.02                 -0.03   \n",
       "TPT                      -0.02  1.00                 -0.13   \n",
       "SHIP_AHEAD_DAY_COUNT     -0.03 -0.13                  1.00   \n",
       "SHIP_LATE_DAY_COUNT      -0.03  0.06                 -0.02   \n",
       "PRODUCT_ID                0.03 -0.23                  0.08   \n",
       "UNIT_QUANTITY             0.01  0.15                 -0.07   \n",
       "WEIGHT                    0.00  0.09                 -0.01   \n",
       "MINM_WGH_QTY             -0.01  0.28                 -0.05   \n",
       "MAX_WGH_QTY              -0.01  0.28                 -0.05   \n",
       "MINIMUM_COST              0.01 -0.40                  0.07   \n",
       "RATE                      0.01 -0.37                  0.06   \n",
       "TPT_DAY_CNT              -0.02  0.66                 -0.11   \n",
       "COST_UNIT                -0.01  0.10                  0.08   \n",
       "COST                      0.01  0.13                 -0.07   \n",
       "\n",
       "                      SHIP_LATE_DAY_COUNT  PRODUCT_ID  UNIT_QUANTITY  WEIGHT  \\\n",
       "ORDER_ID                            -0.03        0.03           0.01    0.00   \n",
       "TPT                                  0.06       -0.23           0.15    0.09   \n",
       "SHIP_AHEAD_DAY_COUNT                -0.02        0.08          -0.07   -0.01   \n",
       "SHIP_LATE_DAY_COUNT                  1.00       -0.04          -0.01   -0.01   \n",
       "PRODUCT_ID                          -0.04        1.00           0.03   -0.04   \n",
       "UNIT_QUANTITY                       -0.01        0.03           1.00    0.43   \n",
       "WEIGHT                              -0.01       -0.04           0.43    1.00   \n",
       "MINM_WGH_QTY                         0.02       -0.06           0.03    0.02   \n",
       "MAX_WGH_QTY                          0.02       -0.06           0.03    0.02   \n",
       "MINIMUM_COST                        -0.03        0.09          -0.04   -0.02   \n",
       "RATE                                -0.02        0.09          -0.03    0.02   \n",
       "TPT_DAY_CNT                          0.05       -0.15           0.06    0.04   \n",
       "COST_UNIT                           -0.02       -0.09          -0.03    0.05   \n",
       "COST                                -0.01        0.03           0.99    0.43   \n",
       "\n",
       "                      MINM_WGH_QTY  MAX_WGH_QTY  MINIMUM_COST  RATE  \\\n",
       "ORDER_ID                     -0.01        -0.01          0.01  0.01   \n",
       "TPT                           0.28         0.28         -0.40 -0.37   \n",
       "SHIP_AHEAD_DAY_COUNT         -0.05        -0.05          0.07  0.06   \n",
       "SHIP_LATE_DAY_COUNT           0.02         0.02         -0.03 -0.02   \n",
       "PRODUCT_ID                   -0.06        -0.06          0.09  0.09   \n",
       "UNIT_QUANTITY                 0.03         0.03         -0.04 -0.03   \n",
       "WEIGHT                        0.02         0.02         -0.02  0.02   \n",
       "MINM_WGH_QTY                  1.00         0.94          0.16 -0.19   \n",
       "MAX_WGH_QTY                   0.94         1.00         -0.08 -0.12   \n",
       "MINIMUM_COST                  0.16        -0.08          1.00 -0.06   \n",
       "RATE                         -0.19        -0.12         -0.06  1.00   \n",
       "TPT_DAY_CNT                   0.20         0.21         -0.30 -0.28   \n",
       "COST_UNIT                    -0.02        -0.02          0.03  0.40   \n",
       "COST                          0.02         0.02         -0.04 -0.01   \n",
       "\n",
       "                      TPT_DAY_CNT  COST_UNIT  COST  \n",
       "ORDER_ID                    -0.02      -0.01  0.01  \n",
       "TPT                          0.66       0.10  0.13  \n",
       "SHIP_AHEAD_DAY_COUNT        -0.11       0.08 -0.07  \n",
       "SHIP_LATE_DAY_COUNT          0.05      -0.02 -0.01  \n",
       "PRODUCT_ID                  -0.15      -0.09  0.03  \n",
       "UNIT_QUANTITY                0.06      -0.03  0.99  \n",
       "WEIGHT                       0.04       0.05  0.43  \n",
       "MINM_WGH_QTY                 0.20      -0.02  0.02  \n",
       "MAX_WGH_QTY                  0.21      -0.02  0.02  \n",
       "MINIMUM_COST                -0.30       0.03 -0.04  \n",
       "RATE                        -0.28       0.40 -0.01  \n",
       "TPT_DAY_CNT                  1.00      -0.07  0.05  \n",
       "COST_UNIT                   -0.07       1.00 -0.02  \n",
       "COST                         0.05      -0.02  1.00  "
      ]
     },
     "execution_count": 77,
     "metadata": {},
     "output_type": "execute_result"
    }
   ],
   "source": [
    "correlation_matrix = df.corr(numeric_only=True).round(2)\n",
    "correlation_matrix"
   ]
  },
  {
   "cell_type": "code",
   "execution_count": 78,
   "id": "ac401513-d76d-4e76-871a-f367cf061bbf",
   "metadata": {},
   "outputs": [
    {
     "data": {
      "image/png": "[encoded data removed]",
      "text/plain": [
       "<Figure size 1000x600 with 2 Axes>"
      ]
     },
     "metadata": {},
     "output_type": "display_data"
    }
   ],
   "source": [
    "import matplotlib.pyplot as plt\n",
    "import seaborn as sns\n",
    "plt.figure(figsize=(10, 6))\n",
    "sns.heatmap(correlation_matrix, annot=True, cmap='coolwarm')\n",
    "plt.title('Correlation Matrix')\n",
    "plt.show()"
   ]
  },
  {
   "cell_type": "code",
   "execution_count": 48,
   "id": "9ee7da1f-d62a-454e-97a3-9c5eb85c55b1",
   "metadata": {},
   "outputs": [
    {
     "name": "stdout",
     "output_type": "stream",
     "text": [
      "Pricing strategies: ['AIR   ' 'GROUND']\n",
      "Average price elasticity: 2.875135211279718\n",
      "Total historical revenue: 27855522352652.188\n"
     ]
    }
   ],
   "source": [
    "# Qiymətləndirmə və Gəlir Məlumatı\n",
    "pricing_strategy = df1['MODE_DSC'].unique()\n",
    "price_elasticity = df1['RATE'].mean()\n",
    "historical_revenue = df['UNIT_QUANTITY'] * df['COST']\n",
    "total_revenue = historical_revenue.sum()\n",
    "print(\"qiymet :\", pricing_strateg)\n",
    "print(\"Orta qiymət elastikliyi:\", price_elasticity)\n",
    "print(\"Ümumi tarixi gəlir:\", total_revenue)"
   ]
  },
  {
   "cell_type": "code",
   "execution_count": 79,
   "id": "e3db4f25-4218-453e-9965-42d2e70a6f61",
   "metadata": {},
   "outputs": [
    {
     "data": {
      "image/png": "[encoded data removed]",
      "text/plain": [
       "<Figure size 1500x600 with 2 Axes>"
      ]
     },
     "metadata": {},
     "output_type": "display_data"
    }
   ],
   "source": [
    "fig, axes = plt.subplots(1, 2, figsize=(15, 6))\n",
    "sns.countplot(data=df, x='SERVICE_LEVEL', ax=axes[0])\n",
    "axes[0].set_title('Xidmət Səviyyələrinin Paylanması')\n",
    "axes[0].set_xlabel('xidmet seviyyələri')\n",
    "axes[0].set_ylabel('say')\n",
    "sns.boxplot(data=df2, y='DAILY_CAPACITY', ax=axes[1])\n",
    "axes[1].set_title('gundelik tutumların bölgüsü')\n",
    "axes[1].set_ylabel('gündəlik tutum')\n",
    "plt.tight_layout()\n",
    "plt.show()"
   ]
  },
  {
   "cell_type": "code",
   "execution_count": 50,
   "id": "7e54b0e9-c913-4aef-9d6b-482e8126e752",
   "metadata": {},
   "outputs": [
    {
     "data": {
      "image/png": "[encoded data removed]",
      "text/plain": [
       "<Figure size 1000x600 with 1 Axes>"
      ]
     },
     "metadata": {},
     "output_type": "display_data"
    }
   ],
   "source": [
    "plt.figure(figsize=(10, 6))\n",
    "sns.scatterplot(data=df, x='WEIGHT', y='COST', hue='CARRIER')\n",
    "plt.title('Weight vs. Shipping Cost')\n",
    "plt.xlabel('Weight')\n",
    "plt.ylabel('Cost')\n",
    "plt.show()"
   ]
  },
  {
   "cell_type": "code",
   "execution_count": 98,
   "id": "1a73dc35-7129-406f-9088-669e02d5a55e",
   "metadata": {},
   "outputs": [
    {
     "data": {
      "image/png": "[encoded data removed]",
      "text/plain": [
       "<Figure size 1500x500 with 2 Axes>"
      ]
     },
     "metadata": {},
     "output_type": "display_data"
    }
   ],
   "source": [
    "fig, axes = plt.subplots(1, 2, figsize=(15, 5))\n",
    "\n",
    "plt.sca(axes[0])\n",
    "plt.xticks(rotation=45)\n",
    "plant_counts = pd.DataFrame(df3['PLANT_CODE'].value_counts())\n",
    "axes[0].bar(plant_counts.index, plant_counts['count'])\n",
    "axes[0].set_title(\"Hər bir zavodun istehsal etdiyi məhsulların sayı\")\n",
    "\n",
    "plt.sca(axes[1])\n",
    "plt.xticks(rotation=45)\n",
    "axes[1].bar(df4['WH'], df4[\"COST_UNIT\"])\n",
    "axes[1].set_title(\"Hər Zavod üçün İstehsal Xərcləri\")\n",
    "\n",
    "plt.tight_layout()\n",
    "\n",
    "plt.show()"
   ]
  },
  {
   "cell_type": "code",
   "execution_count": 52,
   "id": "b1744c7f-9e32-4864-9a72-30443fdd12e7",
   "metadata": {},
   "outputs": [
    {
     "data": {
      "text/html": [
       "<div>\n",
       "<style scoped>\n",
       "    .dataframe tbody tr th:only-of-type {\n",
       "        vertical-align: middle;\n",
       "    }\n",
       "\n",
       "    .dataframe tbody tr th {\n",
       "        vertical-align: top;\n",
       "    }\n",
       "\n",
       "    .dataframe thead th {\n",
       "        text-align: right;\n",
       "    }\n",
       "</style>\n",
       "<table border=\"1\" class=\"dataframe\">\n",
       "  <thead>\n",
       "    <tr style=\"text-align: right;\">\n",
       "      <th></th>\n",
       "      <th>Unnamed: 0</th>\n",
       "      <th>PLANT_CODE</th>\n",
       "      <th>PRODUCT_ID</th>\n",
       "    </tr>\n",
       "  </thead>\n",
       "  <tbody>\n",
       "    <tr>\n",
       "      <th>0</th>\n",
       "      <td>0</td>\n",
       "      <td>PLANT15</td>\n",
       "      <td>1698815</td>\n",
       "    </tr>\n",
       "    <tr>\n",
       "      <th>1</th>\n",
       "      <td>1</td>\n",
       "      <td>PLANT17</td>\n",
       "      <td>1664419</td>\n",
       "    </tr>\n",
       "    <tr>\n",
       "      <th>2</th>\n",
       "      <td>2</td>\n",
       "      <td>PLANT17</td>\n",
       "      <td>1664426</td>\n",
       "    </tr>\n",
       "    <tr>\n",
       "      <th>3</th>\n",
       "      <td>3</td>\n",
       "      <td>PLANT17</td>\n",
       "      <td>1672826</td>\n",
       "    </tr>\n",
       "    <tr>\n",
       "      <th>4</th>\n",
       "      <td>4</td>\n",
       "      <td>PLANT17</td>\n",
       "      <td>1674916</td>\n",
       "    </tr>\n",
       "    <tr>\n",
       "      <th>...</th>\n",
       "      <td>...</td>\n",
       "      <td>...</td>\n",
       "      <td>...</td>\n",
       "    </tr>\n",
       "    <tr>\n",
       "      <th>2031</th>\n",
       "      <td>2031</td>\n",
       "      <td>PLANT04</td>\n",
       "      <td>1699951</td>\n",
       "    </tr>\n",
       "    <tr>\n",
       "      <th>2032</th>\n",
       "      <td>2032</td>\n",
       "      <td>PLANT04</td>\n",
       "      <td>1699952</td>\n",
       "    </tr>\n",
       "    <tr>\n",
       "      <th>2033</th>\n",
       "      <td>2033</td>\n",
       "      <td>PLANT04</td>\n",
       "      <td>1699953</td>\n",
       "    </tr>\n",
       "    <tr>\n",
       "      <th>2034</th>\n",
       "      <td>2034</td>\n",
       "      <td>PLANT04</td>\n",
       "      <td>1699954</td>\n",
       "    </tr>\n",
       "    <tr>\n",
       "      <th>2035</th>\n",
       "      <td>2035</td>\n",
       "      <td>PLANT04</td>\n",
       "      <td>1699974</td>\n",
       "    </tr>\n",
       "  </tbody>\n",
       "</table>\n",
       "<p>2036 rows × 3 columns</p>\n",
       "</div>"
      ],
      "text/plain": [
       "      Unnamed: 0 PLANT_CODE  PRODUCT_ID\n",
       "0              0    PLANT15     1698815\n",
       "1              1    PLANT17     1664419\n",
       "2              2    PLANT17     1664426\n",
       "3              3    PLANT17     1672826\n",
       "4              4    PLANT17     1674916\n",
       "...          ...        ...         ...\n",
       "2031        2031    PLANT04     1699951\n",
       "2032        2032    PLANT04     1699952\n",
       "2033        2033    PLANT04     1699953\n",
       "2034        2034    PLANT04     1699954\n",
       "2035        2035    PLANT04     1699974\n",
       "\n",
       "[2036 rows x 3 columns]"
      ]
     },
     "execution_count": 52,
     "metadata": {},
     "output_type": "execute_result"
    }
   ],
   "source": [
    "df3"
   ]
  },
  {
   "cell_type": "code",
   "execution_count": 53,
   "id": "006a692a-769b-4c39-8eb0-fa64af2fda77",
   "metadata": {},
   "outputs": [
    {
     "data": {
      "text/html": [
       "<div>\n",
       "<style scoped>\n",
       "    .dataframe tbody tr th:only-of-type {\n",
       "        vertical-align: middle;\n",
       "    }\n",
       "\n",
       "    .dataframe tbody tr th {\n",
       "        vertical-align: top;\n",
       "    }\n",
       "\n",
       "    .dataframe thead th {\n",
       "        text-align: right;\n",
       "    }\n",
       "</style>\n",
       "<table border=\"1\" class=\"dataframe\">\n",
       "  <thead>\n",
       "    <tr style=\"text-align: right;\">\n",
       "      <th></th>\n",
       "      <th>count</th>\n",
       "    </tr>\n",
       "    <tr>\n",
       "      <th>PLANT_CODE</th>\n",
       "      <th></th>\n",
       "    </tr>\n",
       "  </thead>\n",
       "  <tbody>\n",
       "    <tr>\n",
       "      <th>PLANT03</th>\n",
       "      <td>781</td>\n",
       "    </tr>\n",
       "    <tr>\n",
       "      <th>PLANT01</th>\n",
       "      <td>220</td>\n",
       "    </tr>\n",
       "    <tr>\n",
       "      <th>PLANT13</th>\n",
       "      <td>150</td>\n",
       "    </tr>\n",
       "    <tr>\n",
       "      <th>PLANT04</th>\n",
       "      <td>134</td>\n",
       "    </tr>\n",
       "    <tr>\n",
       "      <th>PLANT05</th>\n",
       "      <td>127</td>\n",
       "    </tr>\n",
       "    <tr>\n",
       "      <th>PLANT10</th>\n",
       "      <td>121</td>\n",
       "    </tr>\n",
       "    <tr>\n",
       "      <th>PLANT02</th>\n",
       "      <td>116</td>\n",
       "    </tr>\n",
       "    <tr>\n",
       "      <th>PLANT16</th>\n",
       "      <td>113</td>\n",
       "    </tr>\n",
       "    <tr>\n",
       "      <th>PLANT11</th>\n",
       "      <td>96</td>\n",
       "    </tr>\n",
       "    <tr>\n",
       "      <th>PLANT12</th>\n",
       "      <td>57</td>\n",
       "    </tr>\n",
       "    <tr>\n",
       "      <th>PLANT07</th>\n",
       "      <td>29</td>\n",
       "    </tr>\n",
       "    <tr>\n",
       "      <th>PLANT06</th>\n",
       "      <td>26</td>\n",
       "    </tr>\n",
       "    <tr>\n",
       "      <th>PLANT08</th>\n",
       "      <td>21</td>\n",
       "    </tr>\n",
       "    <tr>\n",
       "      <th>PLANT17</th>\n",
       "      <td>20</td>\n",
       "    </tr>\n",
       "    <tr>\n",
       "      <th>PLANT18</th>\n",
       "      <td>12</td>\n",
       "    </tr>\n",
       "    <tr>\n",
       "      <th>PLANT09</th>\n",
       "      <td>8</td>\n",
       "    </tr>\n",
       "    <tr>\n",
       "      <th>PLANT14</th>\n",
       "      <td>3</td>\n",
       "    </tr>\n",
       "    <tr>\n",
       "      <th>PLANT15</th>\n",
       "      <td>1</td>\n",
       "    </tr>\n",
       "    <tr>\n",
       "      <th>CND9</th>\n",
       "      <td>1</td>\n",
       "    </tr>\n",
       "  </tbody>\n",
       "</table>\n",
       "</div>"
      ],
      "text/plain": [
       "            count\n",
       "PLANT_CODE       \n",
       "PLANT03       781\n",
       "PLANT01       220\n",
       "PLANT13       150\n",
       "PLANT04       134\n",
       "PLANT05       127\n",
       "PLANT10       121\n",
       "PLANT02       116\n",
       "PLANT16       113\n",
       "PLANT11        96\n",
       "PLANT12        57\n",
       "PLANT07        29\n",
       "PLANT06        26\n",
       "PLANT08        21\n",
       "PLANT17        20\n",
       "PLANT18        12\n",
       "PLANT09         8\n",
       "PLANT14         3\n",
       "PLANT15         1\n",
       "CND9            1"
      ]
     },
     "execution_count": 53,
     "metadata": {},
     "output_type": "execute_result"
    }
   ],
   "source": [
    "plant_counts"
   ]
  },
  {
   "cell_type": "code",
   "execution_count": 54,
   "id": "a4dbbd8f-0755-440e-99e9-f1c881d0dffb",
   "metadata": {},
   "outputs": [
    {
     "data": {
      "text/plain": [
       "PLANT_CODE\n",
       "PLANT03    781\n",
       "PLANT01    220\n",
       "PLANT13    150\n",
       "PLANT04    134\n",
       "PLANT05    127\n",
       "PLANT10    121\n",
       "PLANT02    116\n",
       "PLANT16    113\n",
       "PLANT11     96\n",
       "PLANT12     57\n",
       "PLANT07     29\n",
       "PLANT06     26\n",
       "PLANT08     21\n",
       "PLANT17     20\n",
       "PLANT18     12\n",
       "PLANT09      8\n",
       "PLANT14      3\n",
       "PLANT15      1\n",
       "CND9         1\n",
       "Name: count, dtype: int64"
      ]
     },
     "execution_count": 54,
     "metadata": {},
     "output_type": "execute_result"
    }
   ],
   "source": [
    "df3['PLANT_CODE'].value_counts()"
   ]
  },
  {
   "cell_type": "code",
   "execution_count": 55,
   "id": "785c6d0a-62ad-42be-9b7a-26282eaac7d8",
   "metadata": {},
   "outputs": [
    {
     "data": {
      "application/vnd.plotly.v1+json": {
       "config": {
        "plotlyServerURL": "https://plot.ly"
       },
       "data": [
        {
         "hoverinfo": "text",
         "marker": {
          "line": {
           "color": "blue",
           "width": 2
          },
          "size": 10,
          "symbol": "circle"
         },
         "mode": "lines+markers",
         "text": "Plant: PLANT01<br>Port: PORT01",
         "type": "scatter",
         "x": [
          "PLANT01",
          "PORT01"
         ],
         "y": [
          1,
          0
         ]
        },
        {
         "hoverinfo": "text",
         "marker": {
          "line": {
           "color": "blue",
           "width": 2
          },
          "size": 10,
          "symbol": "circle"
         },
         "mode": "lines+markers",
         "text": "Plant: PLANT01<br>Port: PORT02",
         "type": "scatter",
         "x": [
          "PLANT01",
          "PORT02"
         ],
         "y": [
          1,
          0
         ]
        },
        {
         "hoverinfo": "text",
         "marker": {
          "line": {
           "color": "blue",
           "width": 2
          },
          "size": 10,
          "symbol": "circle"
         },
         "mode": "lines+markers",
         "text": "Plant: PLANT02<br>Port: PORT03",
         "type": "scatter",
         "x": [
          "PLANT02",
          "PORT03"
         ],
         "y": [
          1,
          0
         ]
        },
        {
         "hoverinfo": "text",
         "marker": {
          "line": {
           "color": "blue",
           "width": 2
          },
          "size": 10,
          "symbol": "circle"
         },
         "mode": "lines+markers",
         "text": "Plant: PLANT03<br>Port: PORT04",
         "type": "scatter",
         "x": [
          "PLANT03",
          "PORT04"
         ],
         "y": [
          1,
          0
         ]
        },
        {
         "hoverinfo": "text",
         "marker": {
          "line": {
           "color": "blue",
           "width": 2
          },
          "size": 10,
          "symbol": "circle"
         },
         "mode": "lines+markers",
         "text": "Plant: PLANT04<br>Port: PORT05",
         "type": "scatter",
         "x": [
          "PLANT04",
          "PORT05"
         ],
         "y": [
          1,
          0
         ]
        },
        {
         "hoverinfo": "text",
         "marker": {
          "line": {
           "color": "blue",
           "width": 2
          },
          "size": 10,
          "symbol": "circle"
         },
         "mode": "lines+markers",
         "text": "Plant: PLANT05<br>Port: PORT06",
         "type": "scatter",
         "x": [
          "PLANT05",
          "PORT06"
         ],
         "y": [
          1,
          0
         ]
        },
        {
         "hoverinfo": "text",
         "marker": {
          "line": {
           "color": "blue",
           "width": 2
          },
          "size": 10,
          "symbol": "circle"
         },
         "mode": "lines+markers",
         "text": "Plant: PLANT06<br>Port: PORT06",
         "type": "scatter",
         "x": [
          "PLANT06",
          "PORT06"
         ],
         "y": [
          1,
          0
         ]
        },
        {
         "hoverinfo": "text",
         "marker": {
          "line": {
           "color": "blue",
           "width": 2
          },
          "size": 10,
          "symbol": "circle"
         },
         "mode": "lines+markers",
         "text": "Plant: PLANT07<br>Port: PORT01",
         "type": "scatter",
         "x": [
          "PLANT07",
          "PORT01"
         ],
         "y": [
          1,
          0
         ]
        },
        {
         "hoverinfo": "text",
         "marker": {
          "line": {
           "color": "blue",
           "width": 2
          },
          "size": 10,
          "symbol": "circle"
         },
         "mode": "lines+markers",
         "text": "Plant: PLANT07<br>Port: PORT02",
         "type": "scatter",
         "x": [
          "PLANT07",
          "PORT02"
         ],
         "y": [
          1,
          0
         ]
        },
        {
         "hoverinfo": "text",
         "marker": {
          "line": {
           "color": "blue",
           "width": 2
          },
          "size": 10,
          "symbol": "circle"
         },
         "mode": "lines+markers",
         "text": "Plant: PLANT08<br>Port: PORT04",
         "type": "scatter",
         "x": [
          "PLANT08",
          "PORT04"
         ],
         "y": [
          1,
          0
         ]
        },
        {
         "hoverinfo": "text",
         "marker": {
          "line": {
           "color": "blue",
           "width": 2
          },
          "size": 10,
          "symbol": "circle"
         },
         "mode": "lines+markers",
         "text": "Plant: PLANT09<br>Port: PORT04",
         "type": "scatter",
         "x": [
          "PLANT09",
          "PORT04"
         ],
         "y": [
          1,
          0
         ]
        },
        {
         "hoverinfo": "text",
         "marker": {
          "line": {
           "color": "blue",
           "width": 2
          },
          "size": 10,
          "symbol": "circle"
         },
         "mode": "lines+markers",
         "text": "Plant: PLANT10<br>Port: PORT01",
         "type": "scatter",
         "x": [
          "PLANT10",
          "PORT01"
         ],
         "y": [
          1,
          0
         ]
        },
        {
         "hoverinfo": "text",
         "marker": {
          "line": {
           "color": "blue",
           "width": 2
          },
          "size": 10,
          "symbol": "circle"
         },
         "mode": "lines+markers",
         "text": "Plant: PLANT10<br>Port: PORT02",
         "type": "scatter",
         "x": [
          "PLANT10",
          "PORT02"
         ],
         "y": [
          1,
          0
         ]
        },
        {
         "hoverinfo": "text",
         "marker": {
          "line": {
           "color": "blue",
           "width": 2
          },
          "size": 10,
          "symbol": "circle"
         },
         "mode": "lines+markers",
         "text": "Plant: PLANT11<br>Port: PORT04",
         "type": "scatter",
         "x": [
          "PLANT11",
          "PORT04"
         ],
         "y": [
          1,
          0
         ]
        },
        {
         "hoverinfo": "text",
         "marker": {
          "line": {
           "color": "blue",
           "width": 2
          },
          "size": 10,
          "symbol": "circle"
         },
         "mode": "lines+markers",
         "text": "Plant: PLANT12<br>Port: PORT04",
         "type": "scatter",
         "x": [
          "PLANT12",
          "PORT04"
         ],
         "y": [
          1,
          0
         ]
        },
        {
         "hoverinfo": "text",
         "marker": {
          "line": {
           "color": "blue",
           "width": 2
          },
          "size": 10,
          "symbol": "circle"
         },
         "mode": "lines+markers",
         "text": "Plant: PLANT13<br>Port: PORT04",
         "type": "scatter",
         "x": [
          "PLANT13",
          "PORT04"
         ],
         "y": [
          1,
          0
         ]
        },
        {
         "hoverinfo": "text",
         "marker": {
          "line": {
           "color": "blue",
           "width": 2
          },
          "size": 10,
          "symbol": "circle"
         },
         "mode": "lines+markers",
         "text": "Plant: PLANT14<br>Port: PORT07",
         "type": "scatter",
         "x": [
          "PLANT14",
          "PORT07"
         ],
         "y": [
          1,
          0
         ]
        },
        {
         "hoverinfo": "text",
         "marker": {
          "line": {
           "color": "blue",
           "width": 2
          },
          "size": 10,
          "symbol": "circle"
         },
         "mode": "lines+markers",
         "text": "Plant: PLANT15<br>Port: PORT08",
         "type": "scatter",
         "x": [
          "PLANT15",
          "PORT08"
         ],
         "y": [
          1,
          0
         ]
        },
        {
         "hoverinfo": "text",
         "marker": {
          "line": {
           "color": "blue",
           "width": 2
          },
          "size": 10,
          "symbol": "circle"
         },
         "mode": "lines+markers",
         "text": "Plant: PLANT16<br>Port: PORT09",
         "type": "scatter",
         "x": [
          "PLANT16",
          "PORT09"
         ],
         "y": [
          1,
          0
         ]
        },
        {
         "hoverinfo": "text",
         "marker": {
          "line": {
           "color": "blue",
           "width": 2
          },
          "size": 10,
          "symbol": "circle"
         },
         "mode": "lines+markers",
         "text": "Plant: PLANT17<br>Port: PORT10",
         "type": "scatter",
         "x": [
          "PLANT17",
          "PORT10"
         ],
         "y": [
          1,
          0
         ]
        },
        {
         "hoverinfo": "text",
         "marker": {
          "line": {
           "color": "blue",
           "width": 2
          },
          "size": 10,
          "symbol": "circle"
         },
         "mode": "lines+markers",
         "text": "Plant: PLANT18<br>Port: PORT11",
         "type": "scatter",
         "x": [
          "PLANT18",
          "PORT11"
         ],
         "y": [
          1,
          0
         ]
        },
        {
         "hoverinfo": "text",
         "marker": {
          "line": {
           "color": "blue",
           "width": 2
          },
          "size": 10,
          "symbol": "circle"
         },
         "mode": "lines+markers",
         "text": "Plant: PLANT19<br>Port: PORT04",
         "type": "scatter",
         "x": [
          "PLANT19",
          "PORT04"
         ],
         "y": [
          1,
          0
         ]
        }
       ],
       "layout": {
        "autosize": true,
        "dragmode": "pan",
        "showlegend": false,
        "template": {
         "data": {
          "bar": [
           {
            "error_x": {
             "color": "#2a3f5f"
            },
            "error_y": {
             "color": "#2a3f5f"
            },
            "marker": {
             "line": {
              "color": "#E5ECF6",
              "width": 0.5
             },
             "pattern": {
              "fillmode": "overlay",
              "size": 10,
              "solidity": 0.2
             }
            },
            "type": "bar"
           }
          ],
          "barpolar": [
           {
            "marker": {
             "line": {
              "color": "#E5ECF6",
              "width": 0.5
             },
             "pattern": {
              "fillmode": "overlay",
              "size": 10,
              "solidity": 0.2
             }
            },
            "type": "barpolar"
           }
          ],
          "carpet": [
           {
            "aaxis": {
             "endlinecolor": "#2a3f5f",
             "gridcolor": "white",
             "linecolor": "white",
             "minorgridcolor": "white",
             "startlinecolor": "#2a3f5f"
            },
            "baxis": {
             "endlinecolor": "#2a3f5f",
             "gridcolor": "white",
             "linecolor": "white",
             "minorgridcolor": "white",
             "startlinecolor": "#2a3f5f"
            },
            "type": "carpet"
           }
          ],
          "choropleth": [
           {
            "colorbar": {
             "outlinewidth": 0,
             "ticks": ""
            },
            "type": "choropleth"
           }
          ],
          "contour": [
           {
            "colorbar": {
             "outlinewidth": 0,
             "ticks": ""
            },
            "colorscale": [
             [
              0,
              "#0d0887"
             ],
             [
              0.1111111111111111,
              "#46039f"
             ],
             [
              0.2222222222222222,
              "#7201a8"
             ],
             [
              0.3333333333333333,
              "#9c179e"
             ],
             [
              0.4444444444444444,
              "#bd3786"
             ],
             [
              0.5555555555555556,
              "#d8576b"
             ],
             [
              0.6666666666666666,
              "#ed7953"
             ],
             [
              0.7777777777777778,
              "#fb9f3a"
             ],
             [
              0.8888888888888888,
              "#fdca26"
             ],
             [
              1,
              "#f0f921"
             ]
            ],
            "type": "contour"
           }
          ],
          "contourcarpet": [
           {
            "colorbar": {
             "outlinewidth": 0,
             "ticks": ""
            },
            "type": "contourcarpet"
           }
          ],
          "heatmap": [
           {
            "colorbar": {
             "outlinewidth": 0,
             "ticks": ""
            },
            "colorscale": [
             [
              0,
              "#0d0887"
             ],
             [
              0.1111111111111111,
              "#46039f"
             ],
             [
              0.2222222222222222,
              "#7201a8"
             ],
             [
              0.3333333333333333,
              "#9c179e"
             ],
             [
              0.4444444444444444,
              "#bd3786"
             ],
             [
              0.5555555555555556,
              "#d8576b"
             ],
             [
              0.6666666666666666,
              "#ed7953"
             ],
             [
              0.7777777777777778,
              "#fb9f3a"
             ],
             [
              0.8888888888888888,
              "#fdca26"
             ],
             [
              1,
              "#f0f921"
             ]
            ],
            "type": "heatmap"
           }
          ],
          "heatmapgl": [
           {
            "colorbar": {
             "outlinewidth": 0,
             "ticks": ""
            },
            "colorscale": [
             [
              0,
              "#0d0887"
             ],
             [
              0.1111111111111111,
              "#46039f"
             ],
             [
              0.2222222222222222,
              "#7201a8"
             ],
             [
              0.3333333333333333,
              "#9c179e"
             ],
             [
              0.4444444444444444,
              "#bd3786"
             ],
             [
              0.5555555555555556,
              "#d8576b"
             ],
             [
              0.6666666666666666,
              "#ed7953"
             ],
             [
              0.7777777777777778,
              "#fb9f3a"
             ],
             [
              0.8888888888888888,
              "#fdca26"
             ],
             [
              1,
              "#f0f921"
             ]
            ],
            "type": "heatmapgl"
           }
          ],
          "histogram": [
           {
            "marker": {
             "pattern": {
              "fillmode": "overlay",
              "size": 10,
              "solidity": 0.2
             }
            },
            "type": "histogram"
           }
          ],
          "histogram2d": [
           {
            "colorbar": {
             "outlinewidth": 0,
             "ticks": ""
            },
            "colorscale": [
             [
              0,
              "#0d0887"
             ],
             [
              0.1111111111111111,
              "#46039f"
             ],
             [
              0.2222222222222222,
              "#7201a8"
             ],
             [
              0.3333333333333333,
              "#9c179e"
             ],
             [
              0.4444444444444444,
              "#bd3786"
             ],
             [
              0.5555555555555556,
              "#d8576b"
             ],
             [
              0.6666666666666666,
              "#ed7953"
             ],
             [
              0.7777777777777778,
              "#fb9f3a"
             ],
             [
              0.8888888888888888,
              "#fdca26"
             ],
             [
              1,
              "#f0f921"
             ]
            ],
            "type": "histogram2d"
           }
          ],
          "histogram2dcontour": [
           {
            "colorbar": {
             "outlinewidth": 0,
             "ticks": ""
            },
            "colorscale": [
             [
              0,
              "#0d0887"
             ],
             [
              0.1111111111111111,
              "#46039f"
             ],
             [
              0.2222222222222222,
              "#7201a8"
             ],
             [
              0.3333333333333333,
              "#9c179e"
             ],
             [
              0.4444444444444444,
              "#bd3786"
             ],
             [
              0.5555555555555556,
              "#d8576b"
             ],
             [
              0.6666666666666666,
              "#ed7953"
             ],
             [
              0.7777777777777778,
              "#fb9f3a"
             ],
             [
              0.8888888888888888,
              "#fdca26"
             ],
             [
              1,
              "#f0f921"
             ]
            ],
            "type": "histogram2dcontour"
           }
          ],
          "mesh3d": [
           {
            "colorbar": {
             "outlinewidth": 0,
             "ticks": ""
            },
            "type": "mesh3d"
           }
          ],
          "parcoords": [
           {
            "line": {
             "colorbar": {
              "outlinewidth": 0,
              "ticks": ""
             }
            },
            "type": "parcoords"
           }
          ],
          "pie": [
           {
            "automargin": true,
            "type": "pie"
           }
          ],
          "scatter": [
           {
            "fillpattern": {
             "fillmode": "overlay",
             "size": 10,
             "solidity": 0.2
            },
            "type": "scatter"
           }
          ],
          "scatter3d": [
           {
            "line": {
             "colorbar": {
              "outlinewidth": 0,
              "ticks": ""
             }
            },
            "marker": {
             "colorbar": {
              "outlinewidth": 0,
              "ticks": ""
             }
            },
            "type": "scatter3d"
           }
          ],
          "scattercarpet": [
           {
            "marker": {
             "colorbar": {
              "outlinewidth": 0,
              "ticks": ""
             }
            },
            "type": "scattercarpet"
           }
          ],
          "scattergeo": [
           {
            "marker": {
             "colorbar": {
              "outlinewidth": 0,
              "ticks": ""
             }
            },
            "type": "scattergeo"
           }
          ],
          "scattergl": [
           {
            "marker": {
             "colorbar": {
              "outlinewidth": 0,
              "ticks": ""
             }
            },
            "type": "scattergl"
           }
          ],
          "scattermapbox": [
           {
            "marker": {
             "colorbar": {
              "outlinewidth": 0,
              "ticks": ""
             }
            },
            "type": "scattermapbox"
           }
          ],
          "scatterpolar": [
           {
            "marker": {
             "colorbar": {
              "outlinewidth": 0,
              "ticks": ""
             }
            },
            "type": "scatterpolar"
           }
          ],
          "scatterpolargl": [
           {
            "marker": {
             "colorbar": {
              "outlinewidth": 0,
              "ticks": ""
             }
            },
            "type": "scatterpolargl"
           }
          ],
          "scatterternary": [
           {
            "marker": {
             "colorbar": {
              "outlinewidth": 0,
              "ticks": ""
             }
            },
            "type": "scatterternary"
           }
          ],
          "surface": [
           {
            "colorbar": {
             "outlinewidth": 0,
             "ticks": ""
            },
            "colorscale": [
             [
              0,
              "#0d0887"
             ],
             [
              0.1111111111111111,
              "#46039f"
             ],
             [
              0.2222222222222222,
              "#7201a8"
             ],
             [
              0.3333333333333333,
              "#9c179e"
             ],
             [
              0.4444444444444444,
              "#bd3786"
             ],
             [
              0.5555555555555556,
              "#d8576b"
             ],
             [
              0.6666666666666666,
              "#ed7953"
             ],
             [
              0.7777777777777778,
              "#fb9f3a"
             ],
             [
              0.8888888888888888,
              "#fdca26"
             ],
             [
              1,
              "#f0f921"
             ]
            ],
            "type": "surface"
           }
          ],
          "table": [
           {
            "cells": {
             "fill": {
              "color": "#EBF0F8"
             },
             "line": {
              "color": "white"
             }
            },
            "header": {
             "fill": {
              "color": "#C8D4E3"
             },
             "line": {
              "color": "white"
             }
            },
            "type": "table"
           }
          ]
         },
         "layout": {
          "annotationdefaults": {
           "arrowcolor": "#2a3f5f",
           "arrowhead": 0,
           "arrowwidth": 1
          },
          "autotypenumbers": "strict",
          "coloraxis": {
           "colorbar": {
            "outlinewidth": 0,
            "ticks": ""
           }
          },
          "colorscale": {
           "diverging": [
            [
             0,
             "#8e0152"
            ],
            [
             0.1,
             "#c51b7d"
            ],
            [
             0.2,
             "#de77ae"
            ],
            [
             0.3,
             "#f1b6da"
            ],
            [
             0.4,
             "#fde0ef"
            ],
            [
             0.5,
             "#f7f7f7"
            ],
            [
             0.6,
             "#e6f5d0"
            ],
            [
             0.7,
             "#b8e186"
            ],
            [
             0.8,
             "#7fbc41"
            ],
            [
             0.9,
             "#4d9221"
            ],
            [
             1,
             "#276419"
            ]
           ],
           "sequential": [
            [
             0,
             "#0d0887"
            ],
            [
             0.1111111111111111,
             "#46039f"
            ],
            [
             0.2222222222222222,
             "#7201a8"
            ],
            [
             0.3333333333333333,
             "#9c179e"
            ],
            [
             0.4444444444444444,
             "#bd3786"
            ],
            [
             0.5555555555555556,
             "#d8576b"
            ],
            [
             0.6666666666666666,
             "#ed7953"
            ],
            [
             0.7777777777777778,
             "#fb9f3a"
            ],
            [
             0.8888888888888888,
             "#fdca26"
            ],
            [
             1,
             "#f0f921"
            ]
           ],
           "sequentialminus": [
            [
             0,
             "#0d0887"
            ],
            [
             0.1111111111111111,
             "#46039f"
            ],
            [
             0.2222222222222222,
             "#7201a8"
            ],
            [
             0.3333333333333333,
             "#9c179e"
            ],
            [
             0.4444444444444444,
             "#bd3786"
            ],
            [
             0.5555555555555556,
             "#d8576b"
            ],
            [
             0.6666666666666666,
             "#ed7953"
            ],
            [
             0.7777777777777778,
             "#fb9f3a"
            ],
            [
             0.8888888888888888,
             "#fdca26"
            ],
            [
             1,
             "#f0f921"
            ]
           ]
          },
          "colorway": [
           "#636efa",
           "#EF553B",
           "#00cc96",
           "#ab63fa",
           "#FFA15A",
           "#19d3f3",
           "#FF6692",
           "#B6E880",
           "#FF97FF",
           "#FECB52"
          ],
          "font": {
           "color": "#2a3f5f"
          },
          "geo": {
           "bgcolor": "white",
           "lakecolor": "white",
           "landcolor": "#E5ECF6",
           "showlakes": true,
           "showland": true,
           "subunitcolor": "white"
          },
          "hoverlabel": {
           "align": "left"
          },
          "hovermode": "closest",
          "mapbox": {
           "style": "light"
          },
          "paper_bgcolor": "white",
          "plot_bgcolor": "#E5ECF6",
          "polar": {
           "angularaxis": {
            "gridcolor": "white",
            "linecolor": "white",
            "ticks": ""
           },
           "bgcolor": "#E5ECF6",
           "radialaxis": {
            "gridcolor": "white",
            "linecolor": "white",
            "ticks": ""
           }
          },
          "scene": {
           "xaxis": {
            "backgroundcolor": "#E5ECF6",
            "gridcolor": "white",
            "gridwidth": 2,
            "linecolor": "white",
            "showbackground": true,
            "ticks": "",
            "zerolinecolor": "white"
           },
           "yaxis": {
            "backgroundcolor": "#E5ECF6",
            "gridcolor": "white",
            "gridwidth": 2,
            "linecolor": "white",
            "showbackground": true,
            "ticks": "",
            "zerolinecolor": "white"
           },
           "zaxis": {
            "backgroundcolor": "#E5ECF6",
            "gridcolor": "white",
            "gridwidth": 2,
            "linecolor": "white",
            "showbackground": true,
            "ticks": "",
            "zerolinecolor": "white"
           }
          },
          "shapedefaults": {
           "line": {
            "color": "#2a3f5f"
           }
          },
          "ternary": {
           "aaxis": {
            "gridcolor": "white",
            "linecolor": "white",
            "ticks": ""
           },
           "baxis": {
            "gridcolor": "white",
            "linecolor": "white",
            "ticks": ""
           },
           "bgcolor": "#E5ECF6",
           "caxis": {
            "gridcolor": "white",
            "linecolor": "white",
            "ticks": ""
           }
          },
          "title": {
           "x": 0.05
          },
          "xaxis": {
           "automargin": true,
           "gridcolor": "white",
           "linecolor": "white",
           "ticks": "",
           "title": {
            "standoff": 15
           },
           "zerolinecolor": "white",
           "zerolinewidth": 2
          },
          "yaxis": {
           "automargin": true,
           "gridcolor": "white",
           "linecolor": "white",
           "ticks": "",
           "title": {
            "standoff": 15
           },
           "zerolinecolor": "white",
           "zerolinewidth": 2
          }
         }
        },
        "title": {
         "text": "Plant and Port Connections"
        },
        "xaxis": {
         "autorange": true,
         "range": [
          -1.9778728828992902,
          30.97787288289929
         ],
         "tickangle": -45,
         "title": {
          "text": "PLANT_CODE - PORT"
         },
         "type": "category"
        },
        "yaxis": {
         "autorange": true,
         "range": [
          -0.10435699226985241,
          1.1043569922698524
         ],
         "showticklabels": false,
         "title": {
          "text": ""
         },
         "type": "linear"
        }
       }
      },
      "text/html": [
       "<div>                            <div id=\"bc01285c-e26a-45c2-8f23-5f7fd4023af3\" class=\"plotly-graph-div\" style=\"height:525px; width:100%;\"></div>            <script type=\"text/javascript\">                require([\"plotly\"], function(Plotly) {                    window.PLOTLYENV=window.PLOTLYENV || {};                                    if (document.getElementById(\"bc01285c-e26a-45c2-8f23-5f7fd4023af3\")) {                    Plotly.newPlot(                        \"bc01285c-e26a-45c2-8f23-5f7fd4023af3\",                        [{\"hoverinfo\":\"text\",\"marker\":{\"line\":{\"color\":\"blue\",\"width\":2},\"size\":10,\"symbol\":\"circle\"},\"mode\":\"lines+markers\",\"text\":\"Plant: PLANT01\\u003cbr\\u003ePort: PORT01\",\"x\":[\"PLANT01\",\"PORT01\"],\"y\":[1,0],\"type\":\"scatter\"},{\"hoverinfo\":\"text\",\"marker\":{\"line\":{\"color\":\"blue\",\"width\":2},\"size\":10,\"symbol\":\"circle\"},\"mode\":\"lines+markers\",\"text\":\"Plant: PLANT01\\u003cbr\\u003ePort: PORT02\",\"x\":[\"PLANT01\",\"PORT02\"],\"y\":[1,0],\"type\":\"scatter\"},{\"hoverinfo\":\"text\",\"marker\":{\"line\":{\"color\":\"blue\",\"width\":2},\"size\":10,\"symbol\":\"circle\"},\"mode\":\"lines+markers\",\"text\":\"Plant: PLANT02\\u003cbr\\u003ePort: PORT03\",\"x\":[\"PLANT02\",\"PORT03\"],\"y\":[1,0],\"type\":\"scatter\"},{\"hoverinfo\":\"text\",\"marker\":{\"line\":{\"color\":\"blue\",\"width\":2},\"size\":10,\"symbol\":\"circle\"},\"mode\":\"lines+markers\",\"text\":\"Plant: PLANT03\\u003cbr\\u003ePort: PORT04\",\"x\":[\"PLANT03\",\"PORT04\"],\"y\":[1,0],\"type\":\"scatter\"},{\"hoverinfo\":\"text\",\"marker\":{\"line\":{\"color\":\"blue\",\"width\":2},\"size\":10,\"symbol\":\"circle\"},\"mode\":\"lines+markers\",\"text\":\"Plant: PLANT04\\u003cbr\\u003ePort: PORT05\",\"x\":[\"PLANT04\",\"PORT05\"],\"y\":[1,0],\"type\":\"scatter\"},{\"hoverinfo\":\"text\",\"marker\":{\"line\":{\"color\":\"blue\",\"width\":2},\"size\":10,\"symbol\":\"circle\"},\"mode\":\"lines+markers\",\"text\":\"Plant: PLANT05\\u003cbr\\u003ePort: PORT06\",\"x\":[\"PLANT05\",\"PORT06\"],\"y\":[1,0],\"type\":\"scatter\"},{\"hoverinfo\":\"text\",\"marker\":{\"line\":{\"color\":\"blue\",\"width\":2},\"size\":10,\"symbol\":\"circle\"},\"mode\":\"lines+markers\",\"text\":\"Plant: PLANT06\\u003cbr\\u003ePort: PORT06\",\"x\":[\"PLANT06\",\"PORT06\"],\"y\":[1,0],\"type\":\"scatter\"},{\"hoverinfo\":\"text\",\"marker\":{\"line\":{\"color\":\"blue\",\"width\":2},\"size\":10,\"symbol\":\"circle\"},\"mode\":\"lines+markers\",\"text\":\"Plant: PLANT07\\u003cbr\\u003ePort: PORT01\",\"x\":[\"PLANT07\",\"PORT01\"],\"y\":[1,0],\"type\":\"scatter\"},{\"hoverinfo\":\"text\",\"marker\":{\"line\":{\"color\":\"blue\",\"width\":2},\"size\":10,\"symbol\":\"circle\"},\"mode\":\"lines+markers\",\"text\":\"Plant: PLANT07\\u003cbr\\u003ePort: PORT02\",\"x\":[\"PLANT07\",\"PORT02\"],\"y\":[1,0],\"type\":\"scatter\"},{\"hoverinfo\":\"text\",\"marker\":{\"line\":{\"color\":\"blue\",\"width\":2},\"size\":10,\"symbol\":\"circle\"},\"mode\":\"lines+markers\",\"text\":\"Plant: PLANT08\\u003cbr\\u003ePort: PORT04\",\"x\":[\"PLANT08\",\"PORT04\"],\"y\":[1,0],\"type\":\"scatter\"},{\"hoverinfo\":\"text\",\"marker\":{\"line\":{\"color\":\"blue\",\"width\":2},\"size\":10,\"symbol\":\"circle\"},\"mode\":\"lines+markers\",\"text\":\"Plant: PLANT09\\u003cbr\\u003ePort: PORT04\",\"x\":[\"PLANT09\",\"PORT04\"],\"y\":[1,0],\"type\":\"scatter\"},{\"hoverinfo\":\"text\",\"marker\":{\"line\":{\"color\":\"blue\",\"width\":2},\"size\":10,\"symbol\":\"circle\"},\"mode\":\"lines+markers\",\"text\":\"Plant: PLANT10\\u003cbr\\u003ePort: PORT01\",\"x\":[\"PLANT10\",\"PORT01\"],\"y\":[1,0],\"type\":\"scatter\"},{\"hoverinfo\":\"text\",\"marker\":{\"line\":{\"color\":\"blue\",\"width\":2},\"size\":10,\"symbol\":\"circle\"},\"mode\":\"lines+markers\",\"text\":\"Plant: PLANT10\\u003cbr\\u003ePort: PORT02\",\"x\":[\"PLANT10\",\"PORT02\"],\"y\":[1,0],\"type\":\"scatter\"},{\"hoverinfo\":\"text\",\"marker\":{\"line\":{\"color\":\"blue\",\"width\":2},\"size\":10,\"symbol\":\"circle\"},\"mode\":\"lines+markers\",\"text\":\"Plant: PLANT11\\u003cbr\\u003ePort: PORT04\",\"x\":[\"PLANT11\",\"PORT04\"],\"y\":[1,0],\"type\":\"scatter\"},{\"hoverinfo\":\"text\",\"marker\":{\"line\":{\"color\":\"blue\",\"width\":2},\"size\":10,\"symbol\":\"circle\"},\"mode\":\"lines+markers\",\"text\":\"Plant: PLANT12\\u003cbr\\u003ePort: PORT04\",\"x\":[\"PLANT12\",\"PORT04\"],\"y\":[1,0],\"type\":\"scatter\"},{\"hoverinfo\":\"text\",\"marker\":{\"line\":{\"color\":\"blue\",\"width\":2},\"size\":10,\"symbol\":\"circle\"},\"mode\":\"lines+markers\",\"text\":\"Plant: PLANT13\\u003cbr\\u003ePort: PORT04\",\"x\":[\"PLANT13\",\"PORT04\"],\"y\":[1,0],\"type\":\"scatter\"},{\"hoverinfo\":\"text\",\"marker\":{\"line\":{\"color\":\"blue\",\"width\":2},\"size\":10,\"symbol\":\"circle\"},\"mode\":\"lines+markers\",\"text\":\"Plant: PLANT14\\u003cbr\\u003ePort: PORT07\",\"x\":[\"PLANT14\",\"PORT07\"],\"y\":[1,0],\"type\":\"scatter\"},{\"hoverinfo\":\"text\",\"marker\":{\"line\":{\"color\":\"blue\",\"width\":2},\"size\":10,\"symbol\":\"circle\"},\"mode\":\"lines+markers\",\"text\":\"Plant: PLANT15\\u003cbr\\u003ePort: PORT08\",\"x\":[\"PLANT15\",\"PORT08\"],\"y\":[1,0],\"type\":\"scatter\"},{\"hoverinfo\":\"text\",\"marker\":{\"line\":{\"color\":\"blue\",\"width\":2},\"size\":10,\"symbol\":\"circle\"},\"mode\":\"lines+markers\",\"text\":\"Plant: PLANT16\\u003cbr\\u003ePort: PORT09\",\"x\":[\"PLANT16\",\"PORT09\"],\"y\":[1,0],\"type\":\"scatter\"},{\"hoverinfo\":\"text\",\"marker\":{\"line\":{\"color\":\"blue\",\"width\":2},\"size\":10,\"symbol\":\"circle\"},\"mode\":\"lines+markers\",\"text\":\"Plant: PLANT17\\u003cbr\\u003ePort: PORT10\",\"x\":[\"PLANT17\",\"PORT10\"],\"y\":[1,0],\"type\":\"scatter\"},{\"hoverinfo\":\"text\",\"marker\":{\"line\":{\"color\":\"blue\",\"width\":2},\"size\":10,\"symbol\":\"circle\"},\"mode\":\"lines+markers\",\"text\":\"Plant: PLANT18\\u003cbr\\u003ePort: PORT11\",\"x\":[\"PLANT18\",\"PORT11\"],\"y\":[1,0],\"type\":\"scatter\"},{\"hoverinfo\":\"text\",\"marker\":{\"line\":{\"color\":\"blue\",\"width\":2},\"size\":10,\"symbol\":\"circle\"},\"mode\":\"lines+markers\",\"text\":\"Plant: PLANT19\\u003cbr\\u003ePort: PORT04\",\"x\":[\"PLANT19\",\"PORT04\"],\"y\":[1,0],\"type\":\"scatter\"}],                        {\"template\":{\"data\":{\"histogram2dcontour\":[{\"type\":\"histogram2dcontour\",\"colorbar\":{\"outlinewidth\":0,\"ticks\":\"\"},\"colorscale\":[[0.0,\"#0d0887\"],[0.1111111111111111,\"#46039f\"],[0.2222222222222222,\"#7201a8\"],[0.3333333333333333,\"#9c179e\"],[0.4444444444444444,\"#bd3786\"],[0.5555555555555556,\"#d8576b\"],[0.6666666666666666,\"#ed7953\"],[0.7777777777777778,\"#fb9f3a\"],[0.8888888888888888,\"#fdca26\"],[1.0,\"#f0f921\"]]}],\"choropleth\":[{\"type\":\"choropleth\",\"colorbar\":{\"outlinewidth\":0,\"ticks\":\"\"}}],\"histogram2d\":[{\"type\":\"histogram2d\",\"colorbar\":{\"outlinewidth\":0,\"ticks\":\"\"},\"colorscale\":[[0.0,\"#0d0887\"],[0.1111111111111111,\"#46039f\"],[0.2222222222222222,\"#7201a8\"],[0.3333333333333333,\"#9c179e\"],[0.4444444444444444,\"#bd3786\"],[0.5555555555555556,\"#d8576b\"],[0.6666666666666666,\"#ed7953\"],[0.7777777777777778,\"#fb9f3a\"],[0.8888888888888888,\"#fdca26\"],[1.0,\"#f0f921\"]]}],\"heatmap\":[{\"type\":\"heatmap\",\"colorbar\":{\"outlinewidth\":0,\"ticks\":\"\"},\"colorscale\":[[0.0,\"#0d0887\"],[0.1111111111111111,\"#46039f\"],[0.2222222222222222,\"#7201a8\"],[0.3333333333333333,\"#9c179e\"],[0.4444444444444444,\"#bd3786\"],[0.5555555555555556,\"#d8576b\"],[0.6666666666666666,\"#ed7953\"],[0.7777777777777778,\"#fb9f3a\"],[0.8888888888888888,\"#fdca26\"],[1.0,\"#f0f921\"]]}],\"heatmapgl\":[{\"type\":\"heatmapgl\",\"colorbar\":{\"outlinewidth\":0,\"ticks\":\"\"},\"colorscale\":[[0.0,\"#0d0887\"],[0.1111111111111111,\"#46039f\"],[0.2222222222222222,\"#7201a8\"],[0.3333333333333333,\"#9c179e\"],[0.4444444444444444,\"#bd3786\"],[0.5555555555555556,\"#d8576b\"],[0.6666666666666666,\"#ed7953\"],[0.7777777777777778,\"#fb9f3a\"],[0.8888888888888888,\"#fdca26\"],[1.0,\"#f0f921\"]]}],\"contourcarpet\":[{\"type\":\"contourcarpet\",\"colorbar\":{\"outlinewidth\":0,\"ticks\":\"\"}}],\"contour\":[{\"type\":\"contour\",\"colorbar\":{\"outlinewidth\":0,\"ticks\":\"\"},\"colorscale\":[[0.0,\"#0d0887\"],[0.1111111111111111,\"#46039f\"],[0.2222222222222222,\"#7201a8\"],[0.3333333333333333,\"#9c179e\"],[0.4444444444444444,\"#bd3786\"],[0.5555555555555556,\"#d8576b\"],[0.6666666666666666,\"#ed7953\"],[0.7777777777777778,\"#fb9f3a\"],[0.8888888888888888,\"#fdca26\"],[1.0,\"#f0f921\"]]}],\"surface\":[{\"type\":\"surface\",\"colorbar\":{\"outlinewidth\":0,\"ticks\":\"\"},\"colorscale\":[[0.0,\"#0d0887\"],[0.1111111111111111,\"#46039f\"],[0.2222222222222222,\"#7201a8\"],[0.3333333333333333,\"#9c179e\"],[0.4444444444444444,\"#bd3786\"],[0.5555555555555556,\"#d8576b\"],[0.6666666666666666,\"#ed7953\"],[0.7777777777777778,\"#fb9f3a\"],[0.8888888888888888,\"#fdca26\"],[1.0,\"#f0f921\"]]}],\"mesh3d\":[{\"type\":\"mesh3d\",\"colorbar\":{\"outlinewidth\":0,\"ticks\":\"\"}}],\"scatter\":[{\"fillpattern\":{\"fillmode\":\"overlay\",\"size\":10,\"solidity\":0.2},\"type\":\"scatter\"}],\"parcoords\":[{\"type\":\"parcoords\",\"line\":{\"colorbar\":{\"outlinewidth\":0,\"ticks\":\"\"}}}],\"scatterpolargl\":[{\"type\":\"scatterpolargl\",\"marker\":{\"colorbar\":{\"outlinewidth\":0,\"ticks\":\"\"}}}],\"bar\":[{\"error_x\":{\"color\":\"#2a3f5f\"},\"error_y\":{\"color\":\"#2a3f5f\"},\"marker\":{\"line\":{\"color\":\"#E5ECF6\",\"width\":0.5},\"pattern\":{\"fillmode\":\"overlay\",\"size\":10,\"solidity\":0.2}},\"type\":\"bar\"}],\"scattergeo\":[{\"type\":\"scattergeo\",\"marker\":{\"colorbar\":{\"outlinewidth\":0,\"ticks\":\"\"}}}],\"scatterpolar\":[{\"type\":\"scatterpolar\",\"marker\":{\"colorbar\":{\"outlinewidth\":0,\"ticks\":\"\"}}}],\"histogram\":[{\"marker\":{\"pattern\":{\"fillmode\":\"overlay\",\"size\":10,\"solidity\":0.2}},\"type\":\"histogram\"}],\"scattergl\":[{\"type\":\"scattergl\",\"marker\":{\"colorbar\":{\"outlinewidth\":0,\"ticks\":\"\"}}}],\"scatter3d\":[{\"type\":\"scatter3d\",\"line\":{\"colorbar\":{\"outlinewidth\":0,\"ticks\":\"\"}},\"marker\":{\"colorbar\":{\"outlinewidth\":0,\"ticks\":\"\"}}}],\"scattermapbox\":[{\"type\":\"scattermapbox\",\"marker\":{\"colorbar\":{\"outlinewidth\":0,\"ticks\":\"\"}}}],\"scatterternary\":[{\"type\":\"scatterternary\",\"marker\":{\"colorbar\":{\"outlinewidth\":0,\"ticks\":\"\"}}}],\"scattercarpet\":[{\"type\":\"scattercarpet\",\"marker\":{\"colorbar\":{\"outlinewidth\":0,\"ticks\":\"\"}}}],\"carpet\":[{\"aaxis\":{\"endlinecolor\":\"#2a3f5f\",\"gridcolor\":\"white\",\"linecolor\":\"white\",\"minorgridcolor\":\"white\",\"startlinecolor\":\"#2a3f5f\"},\"baxis\":{\"endlinecolor\":\"#2a3f5f\",\"gridcolor\":\"white\",\"linecolor\":\"white\",\"minorgridcolor\":\"white\",\"startlinecolor\":\"#2a3f5f\"},\"type\":\"carpet\"}],\"table\":[{\"cells\":{\"fill\":{\"color\":\"#EBF0F8\"},\"line\":{\"color\":\"white\"}},\"header\":{\"fill\":{\"color\":\"#C8D4E3\"},\"line\":{\"color\":\"white\"}},\"type\":\"table\"}],\"barpolar\":[{\"marker\":{\"line\":{\"color\":\"#E5ECF6\",\"width\":0.5},\"pattern\":{\"fillmode\":\"overlay\",\"size\":10,\"solidity\":0.2}},\"type\":\"barpolar\"}],\"pie\":[{\"automargin\":true,\"type\":\"pie\"}]},\"layout\":{\"autotypenumbers\":\"strict\",\"colorway\":[\"#636efa\",\"#EF553B\",\"#00cc96\",\"#ab63fa\",\"#FFA15A\",\"#19d3f3\",\"#FF6692\",\"#B6E880\",\"#FF97FF\",\"#FECB52\"],\"font\":{\"color\":\"#2a3f5f\"},\"hovermode\":\"closest\",\"hoverlabel\":{\"align\":\"left\"},\"paper_bgcolor\":\"white\",\"plot_bgcolor\":\"#E5ECF6\",\"polar\":{\"bgcolor\":\"#E5ECF6\",\"angularaxis\":{\"gridcolor\":\"white\",\"linecolor\":\"white\",\"ticks\":\"\"},\"radialaxis\":{\"gridcolor\":\"white\",\"linecolor\":\"white\",\"ticks\":\"\"}},\"ternary\":{\"bgcolor\":\"#E5ECF6\",\"aaxis\":{\"gridcolor\":\"white\",\"linecolor\":\"white\",\"ticks\":\"\"},\"baxis\":{\"gridcolor\":\"white\",\"linecolor\":\"white\",\"ticks\":\"\"},\"caxis\":{\"gridcolor\":\"white\",\"linecolor\":\"white\",\"ticks\":\"\"}},\"coloraxis\":{\"colorbar\":{\"outlinewidth\":0,\"ticks\":\"\"}},\"colorscale\":{\"sequential\":[[0.0,\"#0d0887\"],[0.1111111111111111,\"#46039f\"],[0.2222222222222222,\"#7201a8\"],[0.3333333333333333,\"#9c179e\"],[0.4444444444444444,\"#bd3786\"],[0.5555555555555556,\"#d8576b\"],[0.6666666666666666,\"#ed7953\"],[0.7777777777777778,\"#fb9f3a\"],[0.8888888888888888,\"#fdca26\"],[1.0,\"#f0f921\"]],\"sequentialminus\":[[0.0,\"#0d0887\"],[0.1111111111111111,\"#46039f\"],[0.2222222222222222,\"#7201a8\"],[0.3333333333333333,\"#9c179e\"],[0.4444444444444444,\"#bd3786\"],[0.5555555555555556,\"#d8576b\"],[0.6666666666666666,\"#ed7953\"],[0.7777777777777778,\"#fb9f3a\"],[0.8888888888888888,\"#fdca26\"],[1.0,\"#f0f921\"]],\"diverging\":[[0,\"#8e0152\"],[0.1,\"#c51b7d\"],[0.2,\"#de77ae\"],[0.3,\"#f1b6da\"],[0.4,\"#fde0ef\"],[0.5,\"#f7f7f7\"],[0.6,\"#e6f5d0\"],[0.7,\"#b8e186\"],[0.8,\"#7fbc41\"],[0.9,\"#4d9221\"],[1,\"#276419\"]]},\"xaxis\":{\"gridcolor\":\"white\",\"linecolor\":\"white\",\"ticks\":\"\",\"title\":{\"standoff\":15},\"zerolinecolor\":\"white\",\"automargin\":true,\"zerolinewidth\":2},\"yaxis\":{\"gridcolor\":\"white\",\"linecolor\":\"white\",\"ticks\":\"\",\"title\":{\"standoff\":15},\"zerolinecolor\":\"white\",\"automargin\":true,\"zerolinewidth\":2},\"scene\":{\"xaxis\":{\"backgroundcolor\":\"#E5ECF6\",\"gridcolor\":\"white\",\"linecolor\":\"white\",\"showbackground\":true,\"ticks\":\"\",\"zerolinecolor\":\"white\",\"gridwidth\":2},\"yaxis\":{\"backgroundcolor\":\"#E5ECF6\",\"gridcolor\":\"white\",\"linecolor\":\"white\",\"showbackground\":true,\"ticks\":\"\",\"zerolinecolor\":\"white\",\"gridwidth\":2},\"zaxis\":{\"backgroundcolor\":\"#E5ECF6\",\"gridcolor\":\"white\",\"linecolor\":\"white\",\"showbackground\":true,\"ticks\":\"\",\"zerolinecolor\":\"white\",\"gridwidth\":2}},\"shapedefaults\":{\"line\":{\"color\":\"#2a3f5f\"}},\"annotationdefaults\":{\"arrowcolor\":\"#2a3f5f\",\"arrowhead\":0,\"arrowwidth\":1},\"geo\":{\"bgcolor\":\"white\",\"landcolor\":\"#E5ECF6\",\"subunitcolor\":\"white\",\"showland\":true,\"showlakes\":true,\"lakecolor\":\"white\"},\"title\":{\"x\":0.05},\"mapbox\":{\"style\":\"light\"}}},\"title\":{\"text\":\"Plant and Port Connections\"},\"xaxis\":{\"title\":{\"text\":\"PLANT_CODE - PORT\"},\"tickangle\":-45},\"yaxis\":{\"title\":{\"text\":\"\"},\"showticklabels\":false,\"range\":[-0.2,1.2]},\"showlegend\":false},                        {\"responsive\": true}                    ).then(function(){\n",
       "                            \n",
       "var gd = document.getElementById('bc01285c-e26a-45c2-8f23-5f7fd4023af3');\n",
       "var x = new MutationObserver(function (mutations, observer) {{\n",
       "        var display = window.getComputedStyle(gd).display;\n",
       "        if (!display || display === 'none') {{\n",
       "            console.log([gd, 'removed!']);\n",
       "            Plotly.purge(gd);\n",
       "            observer.disconnect();\n",
       "        }}\n",
       "}});\n",
       "\n",
       "// Listen for the removal of the full notebook cells\n",
       "var notebookContainer = gd.closest('#notebook-container');\n",
       "if (notebookContainer) {{\n",
       "    x.observe(notebookContainer, {childList: true});\n",
       "}}\n",
       "\n",
       "// Listen for the clearing of the current output cell\n",
       "var outputEl = gd.closest('.output');\n",
       "if (outputEl) {{\n",
       "    x.observe(outputEl, {childList: true});\n",
       "}}\n",
       "\n",
       "                        })                };                });            </script>        </div>"
      ]
     },
     "metadata": {},
     "output_type": "display_data"
    }
   ],
   "source": [
    "#göndərmə limnaları və anbarlar arasında əlaqə\n",
    "import plotly.graph_objects as go\n",
    "fig = go.Figure()\n",
    "for _, row in df5.iterrows():\n",
    "    fig.add_trace(\n",
    "        go.Scatter(\n",
    "            x = [row['PLANT_CODE'], row['PORT']],\n",
    "            y = [1, 0],\n",
    "            mode = 'lines+markers',\n",
    "            marker = dict(\n",
    "                size = 10,\n",
    "                symbol = 'circle',\n",
    "                line = dict(\n",
    "                    color = 'blue',\n",
    "                    width = 2\n",
    "                )\n",
    "            ),\n",
    "            hoverinfo = 'text',\n",
    "            text = f\"Plant: {row['PLANT_CODE']}<br>Port: {row['PORT']}\",\n",
    "        )\n",
    "    )\n",
    "fig.update_layout(\n",
    "    title_text = 'Plant and Port Connections',\n",
    "    showlegend = False,\n",
    "    xaxis = dict(\n",
    "        title = 'PLANT_CODE - PORT',\n",
    "        tickangle = -45\n",
    "    ),\n",
    "    yaxis = dict(\n",
    "        title = '',\n",
    "        showticklabels = False,\n",
    "        range = [-0.2, 1.2]\n",
    "    )\n",
    ")\n",
    "\n",
    "fig.show()\n",
    "    "
   ]
  },
  {
   "cell_type": "code",
   "execution_count": 80,
   "id": "32208022-5f03-4e7b-9632-5dea948b1789",
   "metadata": {},
   "outputs": [],
   "source": [
    "# anbarlar üçün bir siyahı yaradırıq\n",
    "supply_nodes = list(df4['WH'])\n",
    "# anbarların ümumi tutumunu dictə əlavə ein\n",
    "supply_dict = {}\n",
    "for node in supply_nodes:\n",
    "    total_capacity = sum(df2['DAILY_CAPACITY'][df2['PLANT_ID'] == node])\n",
    "    supply_dict[node] = total_capacity\n",
    "# portlar üçün list yaradırıq\n",
    "demand_nodes = list(df['DESTINATION_PORT'].unique())\n",
    "\n",
    "# hər bir portun tutumunu dictə əlavə edirik\n",
    "demand_dict = {}\n",
    "for index, row in df.iterrows():\n",
    "    dest_port = row['DESTINATION_PORT']\n",
    "    unit_quantity = row['UNIT_QUANTITY']\n",
    "    if dest_port in demand_dict:\n",
    "        demand_dict[dest_port] += unit_quantity\n",
    "    else:\n",
    "        demand_dict[dest_port] = unit_quantity    "
   ]
  },
  {
   "cell_type": "code",
   "execution_count": 81,
   "id": "be7a8622-b5c3-4737-ae21-a688024b52c8",
   "metadata": {},
   "outputs": [],
   "source": [
    "# Hər bir nəqliyyat yolunun xərclərinin siyahısını yaradır\n",
    "costs = []\n",
    "for index, row in df.iterrows():\n",
    "    carrier = row['CARRIER']\n",
    "    orig_port = row['ORIG_PORT_CD']\n",
    "    dest_port = row['DEST_PORT_CD']\n",
    "    weight = row['WEIGHT']\n",
    "    \n",
    "    matching_rates = df1[(df1['CARRIER'] == carrier) &\n",
    "                                  (df1['ORIG_PORT_CD'] == orig_port) &\n",
    "                                  (df1['DEST_PORT_CD'] == dest_port) &\n",
    "                                  (df1['MINM_WGH_QTY'] <= weight) &\n",
    "                                  (df1['MAX_WGH_QTY'] >= weight)]['RATE']\n",
    "    \n",
    "    rate = matching_rates.values[0] if not matching_rates.empty else None\n",
    "    costs.append(rate)"
   ]
  },
  {
   "cell_type": "code",
   "execution_count": 82,
   "id": "c7c5232c-e8c3-4aa7-a3f0-ea621fe8b59d",
   "metadata": {},
   "outputs": [],
   "source": [
    "# anbarları açar kimi, portları alt açarlar və xərclər dəyər kimi olan lüğət yaradın\n",
    "cost_dict = {}\n",
    "for supply_node in supply_nodes:\n",
    "    cost_dict[supply_node] = {}\n",
    "    for demand_node in demand_nodes:\n",
    "        cost_dict[supply_node][demand_node] = costs.pop(0)"
   ]
  },
  {
   "cell_type": "code",
   "execution_count": 83,
   "id": "8b8f091b-19d5-417d-8962-53cf150eb656",
   "metadata": {},
   "outputs": [],
   "source": [
    "from pulp import *\n",
    "prob = LpProblem(\"MaterialSupplyProblem\", LpMinimize)\n",
    "\n",
    "#Nəqliyyat üçün bütün mümkün marşrutları özündə cəmləşdirən dəstlərin list yaradır\n",
    "Routes = [(w, b) for w in supply_nodes for b in demand_nodes]\n",
    "\n",
    "# A dictionary called 'Vars' is created to contain the referenced variables(the routes)\n",
    "vars = LpVariable.dicts(\"Route\", (supply_nodes, demand_nodes), 0, None, LpInteger)\n",
    "\n",
    "#minimum məksəd funksiyası\n",
    "prob += lpSum([vars[w][b] * cost_dict[w][b] for (w, b) in Routes]), \"Sum_of_Transporting_Costs\""
   ]
  },
  {
   "cell_type": "code",
   "execution_count": 84,
   "id": "ac179874-ebdf-4edb-8311-b7ccf8763645",
   "metadata": {},
   "outputs": [],
   "source": [
    "# Təchizat maksimum məhdudiyyətləri hər bir təchizat qovşağı (anbarlar) üçün sınaqlara əlavə edilir.\n",
    "for w in supply_nodes:\n",
    "    prob += (\n",
    "        lpSum([vars[w][b] for b in demand_nodes]) <= supply_dict[w],\n",
    "        \"Sum_of_Products_out_of_warehouses_%s\" % w,\n",
    "    )\n",
    "\n",
    "# Tələb minimum məhdudiyyətləri hər bir tələb node (layihə) üçün prob əlavə edilir\n",
    "for b in demand_nodes:\n",
    "    prob += (\n",
    "        lpSum([vars[w][b] for w in supply_nodes]) >= demand_dict[b],\n",
    "        \"Sum_of_Products_into_projects%s\" % b,\n",
    "    )\n",
    "\n",
    "# bir qovşaqdan özünə marşrutların qarşısını almaq üçün\n",
    "for w in supply_nodes:\n",
    "    for b in demand_nodes:\n",
    "        if w != b:  \n",
    "            prob += (vars[w][b] >= 0, \"No_Self_Transportation_%s_%s\" % (w, b))\n",
    "        else:\n",
    "            prob += (vars[w][b] == 0, \"No_Self_Transportation_%s_%s\" % (w, b))\n",
    "            vars[w][b].lowBound = 0"
   ]
  },
  {
   "cell_type": "code",
   "execution_count": 85,
   "id": "f08537dc-d4e0-4f0d-8d46-f000662980ab",
   "metadata": {},
   "outputs": [
    {
     "name": "stdout",
     "output_type": "stream",
     "text": [
      "Route_PLANT01_PORT09 = 1070.0\n",
      "Route_PLANT02_PORT09 = 138.0\n",
      "Route_PLANT03_PORT09 = 555600470.0\n",
      "Route_PLANT04_PORT09 = 554.0\n",
      "Route_PLANT05_PORT09 = 385.0\n",
      "Route_PLANT06_PORT09 = 49.0\n",
      "Route_PLANT07_PORT09 = 265.0\n",
      "Route_PLANT08_PORT09 = 14.0\n",
      "Route_PLANT09_PORT09 = 11.0\n",
      "Route_PLANT10_PORT09 = 118.0\n",
      "Route_PLANT11_PORT09 = 332.0\n",
      "Route_PLANT12_PORT09 = 209.0\n",
      "Route_PLANT13_PORT09 = 490.0\n",
      "Route_PLANT14_PORT09 = 549.0\n",
      "Route_PLANT15_PORT09 = 11.0\n",
      "Route_PLANT16_PORT09 = 457.0\n",
      "Route_PLANT17_PORT09 = 8.0\n",
      "Route_PLANT18_PORT09 = 111.0\n",
      "Route_PLANT19_PORT09 = 7.0\n",
      "Value of Objective Function =  6821943477.0432\n"
     ]
    }
   ],
   "source": [
    "prob.solve()\n",
    "\n",
    "\n",
    "for v in prob.variables():\n",
    "    print(v.name, \"=\", v.varValue)\n",
    "    \n",
    "# Optimallaşdırılmış məqsəd funksiyasının dəyəri ekrana çap olunur\n",
    "print(\"Value of Objective Function = \", value(prob.objective))"
   ]
  },
  {
   "cell_type": "code",
   "execution_count": 121,
   "id": "47ba93dd-fd03-49d2-8ee5-6a45ab40513c",
   "metadata": {},
   "outputs": [],
   "source": [
    "das = pd.DataFrame()\n",
    "for v in prob.variables():\n",
    "     das.loc[len(das),['N','WH','destination_port']] = v.name.split('_')\n",
    "     das.loc[len(das) -1,'value'] = v.varValue"
   ]
  },
  {
   "cell_type": "code",
   "execution_count": 124,
   "id": "fd4ad17b-2250-4505-b641-882bed8ea579",
   "metadata": {},
   "outputs": [
    {
     "data": {
      "text/html": [
       "<div>\n",
       "<style scoped>\n",
       "    .dataframe tbody tr th:only-of-type {\n",
       "        vertical-align: middle;\n",
       "    }\n",
       "\n",
       "    .dataframe tbody tr th {\n",
       "        vertical-align: top;\n",
       "    }\n",
       "\n",
       "    .dataframe thead th {\n",
       "        text-align: right;\n",
       "    }\n",
       "</style>\n",
       "<table border=\"1\" class=\"dataframe\">\n",
       "  <thead>\n",
       "    <tr style=\"text-align: right;\">\n",
       "      <th></th>\n",
       "      <th>N</th>\n",
       "      <th>WH</th>\n",
       "      <th>destination_port</th>\n",
       "      <th>value</th>\n",
       "    </tr>\n",
       "  </thead>\n",
       "  <tbody>\n",
       "    <tr>\n",
       "      <th>18</th>\n",
       "      <td>Route</td>\n",
       "      <td>PLANT19</td>\n",
       "      <td>PORT09</td>\n",
       "      <td>7.0</td>\n",
       "    </tr>\n",
       "    <tr>\n",
       "      <th>16</th>\n",
       "      <td>Route</td>\n",
       "      <td>PLANT17</td>\n",
       "      <td>PORT09</td>\n",
       "      <td>8.0</td>\n",
       "    </tr>\n",
       "    <tr>\n",
       "      <th>14</th>\n",
       "      <td>Route</td>\n",
       "      <td>PLANT15</td>\n",
       "      <td>PORT09</td>\n",
       "      <td>11.0</td>\n",
       "    </tr>\n",
       "    <tr>\n",
       "      <th>8</th>\n",
       "      <td>Route</td>\n",
       "      <td>PLANT09</td>\n",
       "      <td>PORT09</td>\n",
       "      <td>11.0</td>\n",
       "    </tr>\n",
       "    <tr>\n",
       "      <th>7</th>\n",
       "      <td>Route</td>\n",
       "      <td>PLANT08</td>\n",
       "      <td>PORT09</td>\n",
       "      <td>14.0</td>\n",
       "    </tr>\n",
       "    <tr>\n",
       "      <th>5</th>\n",
       "      <td>Route</td>\n",
       "      <td>PLANT06</td>\n",
       "      <td>PORT09</td>\n",
       "      <td>49.0</td>\n",
       "    </tr>\n",
       "    <tr>\n",
       "      <th>17</th>\n",
       "      <td>Route</td>\n",
       "      <td>PLANT18</td>\n",
       "      <td>PORT09</td>\n",
       "      <td>111.0</td>\n",
       "    </tr>\n",
       "    <tr>\n",
       "      <th>9</th>\n",
       "      <td>Route</td>\n",
       "      <td>PLANT10</td>\n",
       "      <td>PORT09</td>\n",
       "      <td>118.0</td>\n",
       "    </tr>\n",
       "    <tr>\n",
       "      <th>1</th>\n",
       "      <td>Route</td>\n",
       "      <td>PLANT02</td>\n",
       "      <td>PORT09</td>\n",
       "      <td>138.0</td>\n",
       "    </tr>\n",
       "    <tr>\n",
       "      <th>11</th>\n",
       "      <td>Route</td>\n",
       "      <td>PLANT12</td>\n",
       "      <td>PORT09</td>\n",
       "      <td>209.0</td>\n",
       "    </tr>\n",
       "    <tr>\n",
       "      <th>6</th>\n",
       "      <td>Route</td>\n",
       "      <td>PLANT07</td>\n",
       "      <td>PORT09</td>\n",
       "      <td>265.0</td>\n",
       "    </tr>\n",
       "    <tr>\n",
       "      <th>10</th>\n",
       "      <td>Route</td>\n",
       "      <td>PLANT11</td>\n",
       "      <td>PORT09</td>\n",
       "      <td>332.0</td>\n",
       "    </tr>\n",
       "    <tr>\n",
       "      <th>4</th>\n",
       "      <td>Route</td>\n",
       "      <td>PLANT05</td>\n",
       "      <td>PORT09</td>\n",
       "      <td>385.0</td>\n",
       "    </tr>\n",
       "    <tr>\n",
       "      <th>15</th>\n",
       "      <td>Route</td>\n",
       "      <td>PLANT16</td>\n",
       "      <td>PORT09</td>\n",
       "      <td>457.0</td>\n",
       "    </tr>\n",
       "    <tr>\n",
       "      <th>12</th>\n",
       "      <td>Route</td>\n",
       "      <td>PLANT13</td>\n",
       "      <td>PORT09</td>\n",
       "      <td>490.0</td>\n",
       "    </tr>\n",
       "    <tr>\n",
       "      <th>13</th>\n",
       "      <td>Route</td>\n",
       "      <td>PLANT14</td>\n",
       "      <td>PORT09</td>\n",
       "      <td>549.0</td>\n",
       "    </tr>\n",
       "    <tr>\n",
       "      <th>3</th>\n",
       "      <td>Route</td>\n",
       "      <td>PLANT04</td>\n",
       "      <td>PORT09</td>\n",
       "      <td>554.0</td>\n",
       "    </tr>\n",
       "    <tr>\n",
       "      <th>0</th>\n",
       "      <td>Route</td>\n",
       "      <td>PLANT01</td>\n",
       "      <td>PORT09</td>\n",
       "      <td>1070.0</td>\n",
       "    </tr>\n",
       "    <tr>\n",
       "      <th>2</th>\n",
       "      <td>Route</td>\n",
       "      <td>PLANT03</td>\n",
       "      <td>PORT09</td>\n",
       "      <td>555600470.0</td>\n",
       "    </tr>\n",
       "  </tbody>\n",
       "</table>\n",
       "</div>"
      ],
      "text/plain": [
       "        N       WH destination_port        value\n",
       "18  Route  PLANT19           PORT09          7.0\n",
       "16  Route  PLANT17           PORT09          8.0\n",
       "14  Route  PLANT15           PORT09         11.0\n",
       "8   Route  PLANT09           PORT09         11.0\n",
       "7   Route  PLANT08           PORT09         14.0\n",
       "5   Route  PLANT06           PORT09         49.0\n",
       "17  Route  PLANT18           PORT09        111.0\n",
       "9   Route  PLANT10           PORT09        118.0\n",
       "1   Route  PLANT02           PORT09        138.0\n",
       "11  Route  PLANT12           PORT09        209.0\n",
       "6   Route  PLANT07           PORT09        265.0\n",
       "10  Route  PLANT11           PORT09        332.0\n",
       "4   Route  PLANT05           PORT09        385.0\n",
       "15  Route  PLANT16           PORT09        457.0\n",
       "12  Route  PLANT13           PORT09        490.0\n",
       "13  Route  PLANT14           PORT09        549.0\n",
       "3   Route  PLANT04           PORT09        554.0\n",
       "0   Route  PLANT01           PORT09       1070.0\n",
       "2   Route  PLANT03           PORT09  555600470.0"
      ]
     },
     "execution_count": 124,
     "metadata": {},
     "output_type": "execute_result"
    }
   ],
   "source": [
    "das.sort_values(by = 'value')"
   ]
  },
  {
   "cell_type": "code",
   "execution_count": 64,
   "id": "ff076ca9-4e64-4202-a48c-b793df44249a",
   "metadata": {},
   "outputs": [
    {
     "data": {
      "text/plain": [
       "Unnamed: 0              0\n",
       "ORDER_ID                0\n",
       "ORDER_DATE              0\n",
       "ORIGIN_PORT             0\n",
       "CARRIER                 0\n",
       "TPT                     0\n",
       "SERVICE_LEVEL           0\n",
       "SHIP_AHEAD_DAY_COUNT    0\n",
       "SHIP_LATE_DAY_COUNT     0\n",
       "CUSTOMER                0\n",
       "PRODUCT_ID              0\n",
       "PLANT_CODE              0\n",
       "DESTINATION_PORT        0\n",
       "UNIT_QUANTITY           0\n",
       "WEIGHT                  0\n",
       "ORIG_PORT_CD            0\n",
       "DEST_PORT_CD            0\n",
       "MINM_WGH_QTY            0\n",
       "MAX_WGH_QTY             0\n",
       "SVC_CD                  0\n",
       "MINIMUM_COST            0\n",
       "RATE                    0\n",
       "MODE_DSC                0\n",
       "TPT_DAY_CNT             0\n",
       "CARRIER_TYPE            0\n",
       "WH                      0\n",
       "COST_UNIT               0\n",
       "COST                    0\n",
       "dtype: int64"
      ]
     },
     "execution_count": 64,
     "metadata": {},
     "output_type": "execute_result"
    }
   ],
   "source": [
    "df.isnull().sum()"
   ]
  },
  {
   "cell_type": "code",
   "execution_count": 89,
   "id": "177c00be-824e-4e48-80f3-86227409ba60",
   "metadata": {},
   "outputs": [
    {
     "data": {
      "text/html": [
       "<div>\n",
       "<style scoped>\n",
       "    .dataframe tbody tr th:only-of-type {\n",
       "        vertical-align: middle;\n",
       "    }\n",
       "\n",
       "    .dataframe tbody tr th {\n",
       "        vertical-align: top;\n",
       "    }\n",
       "\n",
       "    .dataframe thead th {\n",
       "        text-align: right;\n",
       "    }\n",
       "</style>\n",
       "<table border=\"1\" class=\"dataframe\">\n",
       "  <thead>\n",
       "    <tr style=\"text-align: right;\">\n",
       "      <th></th>\n",
       "      <th>CARRIER</th>\n",
       "      <th>ORIG_PORT_CD</th>\n",
       "      <th>DEST_PORT_CD</th>\n",
       "      <th>MINM_WGH_QTY</th>\n",
       "      <th>MAX_WGH_QTY</th>\n",
       "      <th>SVC_CD</th>\n",
       "      <th>MINIMUM_COST</th>\n",
       "      <th>RATE</th>\n",
       "      <th>MODE_DSC</th>\n",
       "      <th>TPT_DAY_CNT</th>\n",
       "      <th>CARRIER_TYPE</th>\n",
       "    </tr>\n",
       "  </thead>\n",
       "  <tbody>\n",
       "    <tr>\n",
       "      <th>0</th>\n",
       "      <td>V444_6</td>\n",
       "      <td>PORT08</td>\n",
       "      <td>PORT09</td>\n",
       "      <td>250.0</td>\n",
       "      <td>499.99</td>\n",
       "      <td>DTD</td>\n",
       "      <td>43.2272</td>\n",
       "      <td>0.7132</td>\n",
       "      <td>AIR</td>\n",
       "      <td>2</td>\n",
       "      <td>V88888888_0</td>\n",
       "    </tr>\n",
       "    <tr>\n",
       "      <th>1</th>\n",
       "      <td>V444_6</td>\n",
       "      <td>PORT08</td>\n",
       "      <td>PORT09</td>\n",
       "      <td>65.0</td>\n",
       "      <td>69.99</td>\n",
       "      <td>DTD</td>\n",
       "      <td>43.2272</td>\n",
       "      <td>0.7512</td>\n",
       "      <td>AIR</td>\n",
       "      <td>2</td>\n",
       "      <td>V88888888_0</td>\n",
       "    </tr>\n",
       "    <tr>\n",
       "      <th>2</th>\n",
       "      <td>V444_6</td>\n",
       "      <td>PORT08</td>\n",
       "      <td>PORT09</td>\n",
       "      <td>60.0</td>\n",
       "      <td>64.99</td>\n",
       "      <td>DTD</td>\n",
       "      <td>43.2272</td>\n",
       "      <td>0.7892</td>\n",
       "      <td>AIR</td>\n",
       "      <td>2</td>\n",
       "      <td>V88888888_0</td>\n",
       "    </tr>\n",
       "    <tr>\n",
       "      <th>3</th>\n",
       "      <td>V444_6</td>\n",
       "      <td>PORT08</td>\n",
       "      <td>PORT09</td>\n",
       "      <td>50.0</td>\n",
       "      <td>54.99</td>\n",
       "      <td>DTD</td>\n",
       "      <td>43.2272</td>\n",
       "      <td>0.8272</td>\n",
       "      <td>AIR</td>\n",
       "      <td>2</td>\n",
       "      <td>V88888888_0</td>\n",
       "    </tr>\n",
       "    <tr>\n",
       "      <th>4</th>\n",
       "      <td>V444_6</td>\n",
       "      <td>PORT08</td>\n",
       "      <td>PORT09</td>\n",
       "      <td>35.0</td>\n",
       "      <td>39.99</td>\n",
       "      <td>DTD</td>\n",
       "      <td>43.2272</td>\n",
       "      <td>1.0552</td>\n",
       "      <td>AIR</td>\n",
       "      <td>2</td>\n",
       "      <td>V88888888_0</td>\n",
       "    </tr>\n",
       "    <tr>\n",
       "      <th>...</th>\n",
       "      <td>...</td>\n",
       "      <td>...</td>\n",
       "      <td>...</td>\n",
       "      <td>...</td>\n",
       "      <td>...</td>\n",
       "      <td>...</td>\n",
       "      <td>...</td>\n",
       "      <td>...</td>\n",
       "      <td>...</td>\n",
       "      <td>...</td>\n",
       "      <td>...</td>\n",
       "    </tr>\n",
       "    <tr>\n",
       "      <th>1532</th>\n",
       "      <td>V444_8</td>\n",
       "      <td>PORT03</td>\n",
       "      <td>PORT09</td>\n",
       "      <td>0.0</td>\n",
       "      <td>99.99</td>\n",
       "      <td>DTD</td>\n",
       "      <td>29.3392</td>\n",
       "      <td>0.4116</td>\n",
       "      <td>AIR</td>\n",
       "      <td>0</td>\n",
       "      <td>V88888888_0</td>\n",
       "    </tr>\n",
       "    <tr>\n",
       "      <th>1533</th>\n",
       "      <td>V444_8</td>\n",
       "      <td>PORT03</td>\n",
       "      <td>PORT09</td>\n",
       "      <td>500.0</td>\n",
       "      <td>1999.99</td>\n",
       "      <td>DTD</td>\n",
       "      <td>29.3392</td>\n",
       "      <td>0.3112</td>\n",
       "      <td>AIR</td>\n",
       "      <td>0</td>\n",
       "      <td>V88888888_0</td>\n",
       "    </tr>\n",
       "    <tr>\n",
       "      <th>1534</th>\n",
       "      <td>V444_8</td>\n",
       "      <td>PORT03</td>\n",
       "      <td>PORT09</td>\n",
       "      <td>250.0</td>\n",
       "      <td>499.99</td>\n",
       "      <td>DTD</td>\n",
       "      <td>29.3392</td>\n",
       "      <td>0.4116</td>\n",
       "      <td>AIR</td>\n",
       "      <td>0</td>\n",
       "      <td>V88888888_0</td>\n",
       "    </tr>\n",
       "    <tr>\n",
       "      <th>1535</th>\n",
       "      <td>V444_8</td>\n",
       "      <td>PORT03</td>\n",
       "      <td>PORT09</td>\n",
       "      <td>2000.0</td>\n",
       "      <td>99999.99</td>\n",
       "      <td>DTD</td>\n",
       "      <td>29.3392</td>\n",
       "      <td>0.3112</td>\n",
       "      <td>AIR</td>\n",
       "      <td>0</td>\n",
       "      <td>V88888888_0</td>\n",
       "    </tr>\n",
       "    <tr>\n",
       "      <th>1536</th>\n",
       "      <td>V444_8</td>\n",
       "      <td>PORT03</td>\n",
       "      <td>PORT09</td>\n",
       "      <td>100.0</td>\n",
       "      <td>249.99</td>\n",
       "      <td>DTD</td>\n",
       "      <td>29.3392</td>\n",
       "      <td>0.4116</td>\n",
       "      <td>AIR</td>\n",
       "      <td>0</td>\n",
       "      <td>V88888888_0</td>\n",
       "    </tr>\n",
       "  </tbody>\n",
       "</table>\n",
       "<p>1537 rows × 11 columns</p>\n",
       "</div>"
      ],
      "text/plain": [
       "     CARRIER ORIG_PORT_CD DEST_PORT_CD  MINM_WGH_QTY  MAX_WGH_QTY SVC_CD  \\\n",
       "0     V444_6       PORT08       PORT09         250.0       499.99    DTD   \n",
       "1     V444_6       PORT08       PORT09          65.0        69.99    DTD   \n",
       "2     V444_6       PORT08       PORT09          60.0        64.99    DTD   \n",
       "3     V444_6       PORT08       PORT09          50.0        54.99    DTD   \n",
       "4     V444_6       PORT08       PORT09          35.0        39.99    DTD   \n",
       "...      ...          ...          ...           ...          ...    ...   \n",
       "1532  V444_8       PORT03       PORT09           0.0        99.99    DTD   \n",
       "1533  V444_8       PORT03       PORT09         500.0      1999.99    DTD   \n",
       "1534  V444_8       PORT03       PORT09         250.0       499.99    DTD   \n",
       "1535  V444_8       PORT03       PORT09        2000.0     99999.99    DTD   \n",
       "1536  V444_8       PORT03       PORT09         100.0       249.99    DTD   \n",
       "\n",
       "      MINIMUM_COST    RATE MODE_DSC  TPT_DAY_CNT CARRIER_TYPE  \n",
       "0          43.2272  0.7132   AIR               2  V88888888_0  \n",
       "1          43.2272  0.7512   AIR               2  V88888888_0  \n",
       "2          43.2272  0.7892   AIR               2  V88888888_0  \n",
       "3          43.2272  0.8272   AIR               2  V88888888_0  \n",
       "4          43.2272  1.0552   AIR               2  V88888888_0  \n",
       "...            ...     ...      ...          ...          ...  \n",
       "1532       29.3392  0.4116   AIR               0  V88888888_0  \n",
       "1533       29.3392  0.3112   AIR               0  V88888888_0  \n",
       "1534       29.3392  0.4116   AIR               0  V88888888_0  \n",
       "1535       29.3392  0.3112   AIR               0  V88888888_0  \n",
       "1536       29.3392  0.4116   AIR               0  V88888888_0  \n",
       "\n",
       "[1537 rows x 11 columns]"
      ]
     },
     "execution_count": 89,
     "metadata": {},
     "output_type": "execute_result"
    }
   ],
   "source": [
    "df1"
   ]
  },
  {
   "cell_type": "code",
   "execution_count": 90,
   "id": "cccba3ef-8dd0-414d-a847-94951c25890a",
   "metadata": {},
   "outputs": [
    {
     "data": {
      "text/plain": [
       "[('PLANT15', 'PORT09'),\n",
       " ('PLANT17', 'PORT09'),\n",
       " ('PLANT18', 'PORT09'),\n",
       " ('PLANT05', 'PORT09'),\n",
       " ('PLANT02', 'PORT09'),\n",
       " ('PLANT01', 'PORT09'),\n",
       " ('PLANT06', 'PORT09'),\n",
       " ('PLANT10', 'PORT09'),\n",
       " ('PLANT07', 'PORT09'),\n",
       " ('PLANT14', 'PORT09'),\n",
       " ('PLANT16', 'PORT09'),\n",
       " ('PLANT12', 'PORT09'),\n",
       " ('PLANT11', 'PORT09'),\n",
       " ('PLANT09', 'PORT09'),\n",
       " ('PLANT03', 'PORT09'),\n",
       " ('PLANT13', 'PORT09'),\n",
       " ('PLANT19', 'PORT09'),\n",
       " ('PLANT08', 'PORT09'),\n",
       " ('PLANT04', 'PORT09')]"
      ]
     },
     "execution_count": 90,
     "metadata": {},
     "output_type": "execute_result"
    }
   ],
   "source": [
    "Routes"
   ]
  },
  {
   "cell_type": "code",
   "execution_count": 91,
   "id": "a2102f32-6688-4461-964b-33c0804a5a31",
   "metadata": {},
   "outputs": [
    {
     "data": {
      "text/plain": [
       "{'PLANT15': {'PORT09': Route_PLANT15_PORT09},\n",
       " 'PLANT17': {'PORT09': Route_PLANT17_PORT09},\n",
       " 'PLANT18': {'PORT09': Route_PLANT18_PORT09},\n",
       " 'PLANT05': {'PORT09': Route_PLANT05_PORT09},\n",
       " 'PLANT02': {'PORT09': Route_PLANT02_PORT09},\n",
       " 'PLANT01': {'PORT09': Route_PLANT01_PORT09},\n",
       " 'PLANT06': {'PORT09': Route_PLANT06_PORT09},\n",
       " 'PLANT10': {'PORT09': Route_PLANT10_PORT09},\n",
       " 'PLANT07': {'PORT09': Route_PLANT07_PORT09},\n",
       " 'PLANT14': {'PORT09': Route_PLANT14_PORT09},\n",
       " 'PLANT16': {'PORT09': Route_PLANT16_PORT09},\n",
       " 'PLANT12': {'PORT09': Route_PLANT12_PORT09},\n",
       " 'PLANT11': {'PORT09': Route_PLANT11_PORT09},\n",
       " 'PLANT09': {'PORT09': Route_PLANT09_PORT09},\n",
       " 'PLANT03': {'PORT09': Route_PLANT03_PORT09},\n",
       " 'PLANT13': {'PORT09': Route_PLANT13_PORT09},\n",
       " 'PLANT19': {'PORT09': Route_PLANT19_PORT09},\n",
       " 'PLANT08': {'PORT09': Route_PLANT08_PORT09},\n",
       " 'PLANT04': {'PORT09': Route_PLANT04_PORT09}}"
      ]
     },
     "execution_count": 91,
     "metadata": {},
     "output_type": "execute_result"
    }
   ],
   "source": [
    "vars"
   ]
  },
  {
   "cell_type": "code",
   "execution_count": 93,
   "id": "eda7bfe8-1b9e-48dd-9dcb-dcc49969adc4",
   "metadata": {},
   "outputs": [
    {
     "data": {
      "text/plain": [
       "MaterialSupplyProblem:\n",
       "MINIMIZE\n",
       "12.2784*Route_PLANT01_PORT09 + 12.2784*Route_PLANT02_PORT09 + 12.2784*Route_PLANT03_PORT09 + 12.2784*Route_PLANT04_PORT09 + 12.2784*Route_PLANT05_PORT09 + 12.2784*Route_PLANT06_PORT09 + 12.2784*Route_PLANT07_PORT09 + 12.2784*Route_PLANT08_PORT09 + 12.2784*Route_PLANT09_PORT09 + 12.2784*Route_PLANT10_PORT09 + 12.2784*Route_PLANT11_PORT09 + 12.2784*Route_PLANT12_PORT09 + 12.2784*Route_PLANT13_PORT09 + 12.2784*Route_PLANT14_PORT09 + 12.2784*Route_PLANT15_PORT09 + 12.2784*Route_PLANT16_PORT09 + 12.2784*Route_PLANT17_PORT09 + 12.2784*Route_PLANT18_PORT09 + 12.2784*Route_PLANT19_PORT09 + 0.0\n",
       "SUBJECT TO\n",
       "Sum_of_Products_out_of_warehouses_PLANT15: Route_PLANT15_PORT09 <= 11\n",
       "\n",
       "Sum_of_Products_out_of_warehouses_PLANT17: Route_PLANT17_PORT09 <= 8\n",
       "\n",
       "Sum_of_Products_out_of_warehouses_PLANT18: Route_PLANT18_PORT09 <= 111\n",
       "\n",
       "Sum_of_Products_out_of_warehouses_PLANT05: Route_PLANT05_PORT09 <= 385\n",
       "\n",
       "Sum_of_Products_out_of_warehouses_PLANT02: Route_PLANT02_PORT09 <= 138\n",
       "\n",
       "Sum_of_Products_out_of_warehouses_PLANT01: Route_PLANT01_PORT09 <= 1070\n",
       "\n",
       "Sum_of_Products_out_of_warehouses_PLANT06: Route_PLANT06_PORT09 <= 49\n",
       "\n",
       "Sum_of_Products_out_of_warehouses_PLANT10: Route_PLANT10_PORT09 <= 118\n",
       "\n",
       "Sum_of_Products_out_of_warehouses_PLANT07: Route_PLANT07_PORT09 <= 265\n",
       "\n",
       "Sum_of_Products_out_of_warehouses_PLANT14: Route_PLANT14_PORT09 <= 549\n",
       "\n",
       "Sum_of_Products_out_of_warehouses_PLANT16: Route_PLANT16_PORT09 <= 457\n",
       "\n",
       "Sum_of_Products_out_of_warehouses_PLANT12: Route_PLANT12_PORT09 <= 209\n",
       "\n",
       "Sum_of_Products_out_of_warehouses_PLANT11: Route_PLANT11_PORT09 <= 332\n",
       "\n",
       "Sum_of_Products_out_of_warehouses_PLANT09: Route_PLANT09_PORT09 <= 11\n",
       "\n",
       "Sum_of_Products_out_of_warehouses_PLANT03: Route_PLANT03_PORT09 <= 1013\n",
       "\n",
       "Sum_of_Products_out_of_warehouses_PLANT13: Route_PLANT13_PORT09 <= 490\n",
       "\n",
       "Sum_of_Products_out_of_warehouses_PLANT19: Route_PLANT19_PORT09 <= 7\n",
       "\n",
       "Sum_of_Products_out_of_warehouses_PLANT08: Route_PLANT08_PORT09 <= 14\n",
       "\n",
       "Sum_of_Products_out_of_warehouses_PLANT04: Route_PLANT04_PORT09 <= 554\n",
       "\n",
       "Sum_of_Products_into_projectsPORT09: Route_PLANT01_PORT09\n",
       " + Route_PLANT02_PORT09 + Route_PLANT03_PORT09 + Route_PLANT04_PORT09\n",
       " + Route_PLANT05_PORT09 + Route_PLANT06_PORT09 + Route_PLANT07_PORT09\n",
       " + Route_PLANT08_PORT09 + Route_PLANT09_PORT09 + Route_PLANT10_PORT09\n",
       " + Route_PLANT11_PORT09 + Route_PLANT12_PORT09 + Route_PLANT13_PORT09\n",
       " + Route_PLANT14_PORT09 + Route_PLANT15_PORT09 + Route_PLANT16_PORT09\n",
       " + Route_PLANT17_PORT09 + Route_PLANT18_PORT09 + Route_PLANT19_PORT09\n",
       " >= 555605244\n",
       "\n",
       "No_Self_Transportation_PLANT15_PORT09: Route_PLANT15_PORT09 >= 0\n",
       "\n",
       "No_Self_Transportation_PLANT17_PORT09: Route_PLANT17_PORT09 >= 0\n",
       "\n",
       "No_Self_Transportation_PLANT18_PORT09: Route_PLANT18_PORT09 >= 0\n",
       "\n",
       "No_Self_Transportation_PLANT05_PORT09: Route_PLANT05_PORT09 >= 0\n",
       "\n",
       "No_Self_Transportation_PLANT02_PORT09: Route_PLANT02_PORT09 >= 0\n",
       "\n",
       "No_Self_Transportation_PLANT01_PORT09: Route_PLANT01_PORT09 >= 0\n",
       "\n",
       "No_Self_Transportation_PLANT06_PORT09: Route_PLANT06_PORT09 >= 0\n",
       "\n",
       "No_Self_Transportation_PLANT10_PORT09: Route_PLANT10_PORT09 >= 0\n",
       "\n",
       "No_Self_Transportation_PLANT07_PORT09: Route_PLANT07_PORT09 >= 0\n",
       "\n",
       "No_Self_Transportation_PLANT14_PORT09: Route_PLANT14_PORT09 >= 0\n",
       "\n",
       "No_Self_Transportation_PLANT16_PORT09: Route_PLANT16_PORT09 >= 0\n",
       "\n",
       "No_Self_Transportation_PLANT12_PORT09: Route_PLANT12_PORT09 >= 0\n",
       "\n",
       "No_Self_Transportation_PLANT11_PORT09: Route_PLANT11_PORT09 >= 0\n",
       "\n",
       "No_Self_Transportation_PLANT09_PORT09: Route_PLANT09_PORT09 >= 0\n",
       "\n",
       "No_Self_Transportation_PLANT03_PORT09: Route_PLANT03_PORT09 >= 0\n",
       "\n",
       "No_Self_Transportation_PLANT13_PORT09: Route_PLANT13_PORT09 >= 0\n",
       "\n",
       "No_Self_Transportation_PLANT19_PORT09: Route_PLANT19_PORT09 >= 0\n",
       "\n",
       "No_Self_Transportation_PLANT08_PORT09: Route_PLANT08_PORT09 >= 0\n",
       "\n",
       "No_Self_Transportation_PLANT04_PORT09: Route_PLANT04_PORT09 >= 0\n",
       "\n",
       "VARIABLES\n",
       "0 <= Route_PLANT01_PORT09 Integer\n",
       "0 <= Route_PLANT02_PORT09 Integer\n",
       "0 <= Route_PLANT03_PORT09 Integer\n",
       "0 <= Route_PLANT04_PORT09 Integer\n",
       "0 <= Route_PLANT05_PORT09 Integer\n",
       "0 <= Route_PLANT06_PORT09 Integer\n",
       "0 <= Route_PLANT07_PORT09 Integer\n",
       "0 <= Route_PLANT08_PORT09 Integer\n",
       "0 <= Route_PLANT09_PORT09 Integer\n",
       "0 <= Route_PLANT10_PORT09 Integer\n",
       "0 <= Route_PLANT11_PORT09 Integer\n",
       "0 <= Route_PLANT12_PORT09 Integer\n",
       "0 <= Route_PLANT13_PORT09 Integer\n",
       "0 <= Route_PLANT14_PORT09 Integer\n",
       "0 <= Route_PLANT15_PORT09 Integer\n",
       "0 <= Route_PLANT16_PORT09 Integer\n",
       "0 <= Route_PLANT17_PORT09 Integer\n",
       "0 <= Route_PLANT18_PORT09 Integer\n",
       "0 <= Route_PLANT19_PORT09 Integer"
      ]
     },
     "execution_count": 93,
     "metadata": {},
     "output_type": "execute_result"
    }
   ],
   "source": [
    "prob "
   ]
  },
  {
   "cell_type": "code",
   "execution_count": 94,
   "id": "c2951e17-b906-41db-9a9f-d0a98da16bad",
   "metadata": {},
   "outputs": [
    {
     "data": {
      "text/plain": [
       "{'PLANT15': {'PORT09': 12.2784},\n",
       " 'PLANT17': {'PORT09': 12.2784},\n",
       " 'PLANT18': {'PORT09': 12.2784},\n",
       " 'PLANT05': {'PORT09': 12.2784},\n",
       " 'PLANT02': {'PORT09': 12.2784},\n",
       " 'PLANT01': {'PORT09': 12.2784},\n",
       " 'PLANT06': {'PORT09': 12.2784},\n",
       " 'PLANT10': {'PORT09': 12.2784},\n",
       " 'PLANT07': {'PORT09': 12.2784},\n",
       " 'PLANT14': {'PORT09': 12.2784},\n",
       " 'PLANT16': {'PORT09': 12.2784},\n",
       " 'PLANT12': {'PORT09': 12.2784},\n",
       " 'PLANT11': {'PORT09': 12.2784},\n",
       " 'PLANT09': {'PORT09': 12.2784},\n",
       " 'PLANT03': {'PORT09': 12.2784},\n",
       " 'PLANT13': {'PORT09': 12.2784},\n",
       " 'PLANT19': {'PORT09': 12.2784},\n",
       " 'PLANT08': {'PORT09': 12.2784},\n",
       " 'PLANT04': {'PORT09': 12.2784}}"
      ]
     },
     "execution_count": 94,
     "metadata": {},
     "output_type": "execute_result"
    }
   ],
   "source": [
    "cost_dict"
   ]
  },
  {
   "cell_type": "code",
   "execution_count": 95,
   "id": "cfefbe67-d8a9-48c5-a942-fb07c9212050",
   "metadata": {},
   "outputs": [
    {
     "data": {
      "text/plain": [
       "['PLANT15',\n",
       " 'PLANT17',\n",
       " 'PLANT18',\n",
       " 'PLANT05',\n",
       " 'PLANT02',\n",
       " 'PLANT01',\n",
       " 'PLANT06',\n",
       " 'PLANT10',\n",
       " 'PLANT07',\n",
       " 'PLANT14',\n",
       " 'PLANT16',\n",
       " 'PLANT12',\n",
       " 'PLANT11',\n",
       " 'PLANT09',\n",
       " 'PLANT03',\n",
       " 'PLANT13',\n",
       " 'PLANT19',\n",
       " 'PLANT08',\n",
       " 'PLANT04']"
      ]
     },
     "execution_count": 95,
     "metadata": {},
     "output_type": "execute_result"
    }
   ],
   "source": [
    "supply_nodes"
   ]
  },
  {
   "cell_type": "code",
   "execution_count": 96,
   "id": "d2a1c29c-781f-4033-ac12-38f80741f53e",
   "metadata": {},
   "outputs": [
    {
     "data": {
      "text/plain": [
       "{'PORT09': 555605244}"
      ]
     },
     "execution_count": 96,
     "metadata": {},
     "output_type": "execute_result"
    }
   ],
   "source": [
    " demand_dict"
   ]
  },
  {
   "cell_type": "code",
   "execution_count": 125,
   "id": "a1af3202-5182-41ab-9df9-a0aa3554f522",
   "metadata": {},
   "outputs": [
    {
     "data": {
      "text/plain": [
       "[Route_PLANT01_PORT09,\n",
       " Route_PLANT02_PORT09,\n",
       " Route_PLANT03_PORT09,\n",
       " Route_PLANT04_PORT09,\n",
       " Route_PLANT05_PORT09,\n",
       " Route_PLANT06_PORT09,\n",
       " Route_PLANT07_PORT09,\n",
       " Route_PLANT08_PORT09,\n",
       " Route_PLANT09_PORT09,\n",
       " Route_PLANT10_PORT09,\n",
       " Route_PLANT11_PORT09,\n",
       " Route_PLANT12_PORT09,\n",
       " Route_PLANT13_PORT09,\n",
       " Route_PLANT14_PORT09,\n",
       " Route_PLANT15_PORT09,\n",
       " Route_PLANT16_PORT09,\n",
       " Route_PLANT17_PORT09,\n",
       " Route_PLANT18_PORT09,\n",
       " Route_PLANT19_PORT09]"
      ]
     },
     "execution_count": 125,
     "metadata": {},
     "output_type": "execute_result"
    }
   ],
   "source": [
    "prob.variables()"
   ]
  },
  {
   "cell_type": "code",
   "execution_count": null,
   "id": "9899c69b-0832-48de-bae4-91d79b03efc9",
   "metadata": {},
   "outputs": [],
   "source": []
  }
 ],
 "metadata": {
  "kernelspec": {
   "display_name": "Python 3 (ipykernel)",
   "language": "python",
   "name": "python3"
  },
  "language_info": {
   "codemirror_mode": {
    "name": "ipython",
    "version": 3
   },
   "file_extension": ".py",
   "mimetype": "text/x-python",
   "name": "python",
   "nbconvert_exporter": "python",
   "pygments_lexer": "ipython3",
   "version": "3.11.3"
  }
 },
 "nbformat": 4,
 "nbformat_minor": 5
}
